{
  "cells": [
    {
      "cell_type": "markdown",
      "metadata": {
        "id": "view-in-github",
        "colab_type": "text"
      },
      "source": [
        "<a href=\"https://colab.research.google.com/github/a-eghrari/nb_LEARNER/blob/sol/8S50x_L17.ipynb\" target=\"_parent\"><img src=\"https://colab.research.google.com/assets/colab-badge.svg\" alt=\"Open In Colab\"/></a>"
      ]
    },
    {
      "cell_type": "markdown",
      "id": "1ee373c5",
      "metadata": {
        "tags": [
          "learner",
          "md",
          "learner_chopped"
        ],
        "id": "1ee373c5"
      },
      "source": [
        "<hr style=\"height: 1px;\">\n",
        "<i>This notebook was authored by the 8.S50x Course Team, Copyright 2022 MIT All Rights Reserved.</i>\n",
        "<hr style=\"height: 1px;\">\n",
        "<br>\n",
        "\n",
        "<h1>Lesson 17: Numerical ODE Simulations Part I</h1>\n"
      ]
    },
    {
      "cell_type": "markdown",
      "id": "41345f3a",
      "metadata": {
        "tags": [
          "learner",
          "md",
          "learner_chopped"
        ],
        "id": "41345f3a"
      },
      "source": [
        "<a name='section_17_0'></a>\n",
        "<hr style=\"height: 1px;\">\n",
        "\n",
        "\n",
        "## <h2 style=\"border:1px; border-style:solid; padding: 0.25em; color: #FFFFFF; background-color: #90409C\">L17.0 Overview</h2>\n"
      ]
    },
    {
      "cell_type": "markdown",
      "id": "fce9b388",
      "metadata": {
        "tags": [
          "learner",
          "md",
          "learner_chopped"
        ],
        "id": "fce9b388"
      },
      "source": [
        "<h3>Navigation</h3>\n",
        "\n",
        "<table style=\"width:100%\">\n",
        "    <tr>\n",
        "        <td style=\"text-align: left; vertical-align: top; font-size: 10pt;\"><a href=\"#section_17_1\">L17.1 Simulating a Pendulum</a></td>\n",
        "        <td style=\"text-align: left; vertical-align: top; font-size: 10pt;\"><a href=\"#exercises_17_1\">L17.1 Exercises</a></td>\n",
        "    </tr>\n",
        "    <tr>\n",
        "        <td style=\"text-align: left; vertical-align: top; font-size: 10pt;\"><a href=\"#section_17_2\">L17.2 The Symplectic Approach</a></td>\n",
        "        <td style=\"text-align: left; vertical-align: top; font-size: 10pt;\"><a href=\"#exercises_17_2\">L17.2 Exercises</a></td>\n",
        "    </tr>\n",
        "    <tr>\n",
        "        <td style=\"text-align: left; vertical-align: top; font-size: 10pt;\"><a href=\"#section_17_3\">L17.3 The Leap-Frog Verlet Approach</a></td>\n",
        "        <td style=\"text-align: left; vertical-align: top; font-size: 10pt;\"><a href=\"#exercises_17_3\">L17.3 Exercises</a></td>\n",
        "    </tr>\n",
        "    <tr>\n",
        "        <td style=\"text-align: left; vertical-align: top; font-size: 10pt;\"><a href=\"#section_17_4\">L17.4 Runge-Kutta</a></td>\n",
        "        <td style=\"text-align: left; vertical-align: top; font-size: 10pt;\"><a href=\"#exercises_17_4\">L17.4 Exercises</a></td>\n",
        "    </tr>\n",
        "    <tr>\n",
        "        <td style=\"text-align: left; vertical-align: top; font-size: 10pt;\"><a href=\"#section_17_5\">L17.5 Modern High Quality Integrators</a></td>\n",
        "        <td style=\"text-align: left; vertical-align: top; font-size: 10pt;\"><a href=\"#exercises_17_5\">L17.5 Exercises</a></td>\n",
        "    </tr>\n",
        "    <tr>\n",
        "        <td style=\"text-align: left; vertical-align: top; font-size: 10pt;\"><a href=\"#section_17_6\">L17.6 Fitting the Full Thing</a></td>\n",
        "        <td style=\"text-align: left; vertical-align: top; font-size: 10pt;\"><a href=\"#exercises_17_6\">L17.6 Exercises</a></td>\n",
        "    </tr>\n",
        "</table>"
      ]
    },
    {
      "cell_type": "markdown",
      "id": "467638f0",
      "metadata": {
        "tags": [
          "learner",
          "catsoop_00",
          "md"
        ],
        "id": "467638f0"
      },
      "source": [
        "<h3>Learning Objectives</h3>\n",
        "\n",
        "In this part of the course, we are going to cover numerical simulation, which is often the core of computational physics courses. However, as we will see, this part goes hand-in-hand with analyzing data. We will cover the core numerical simulations and projects that are present in a variety of fields, and we note that more and more subfields are adopting numerical simulations.\n",
        "\n",
        "Before delving into modern physics, in this Lesson we will first go back to the 17th century to solve the most famous physics problem of them all: **The Pendulum**. We'll start with some of the traditional mathematical approachs but don't worry, by the end of this lecture we will be solving it with deep learning."
      ]
    },
    {
      "cell_type": "markdown",
      "id": "00c8ee23",
      "metadata": {
        "tags": [
          "learner",
          "catsoop_00",
          "md"
        ],
        "id": "00c8ee23"
      },
      "source": [
        "<h3>Slides</h3>\n",
        "\n",
        "You can access the slides related to this lecture at the following link: <a href=\"https://github.com/mitx-8s50/slides/raw/main/module3_slides/L17_slides.pdf\" target=\"_blank\">L17 Slides</a>"
      ]
    },
    {
      "cell_type": "markdown",
      "id": "dff0575f",
      "metadata": {
        "tags": [
          "learner",
          "md"
        ],
        "id": "dff0575f"
      },
      "source": [
        "<h3>Importing Data (Colab Only)</h3>\n",
        "\n",
        "If you are in a Google Colab environment, run the cell below to import the data for this notebook. Otherwise, if you have downloaded the course repository, you do not have to run the cell below.\n",
        "\n",
        "See the source and attribution information below:\n",
        "\n",
        ">data: Kiran.csv, jade-pendulum.csv<br>\n",
        ">source:  MIT Junior Lab<br>\n",
        ">attribution: needed"
      ]
    },
    {
      "cell_type": "code",
      "execution_count": 19,
      "id": "38f45a92",
      "metadata": {
        "tags": [
          "learner",
          "py",
          "learner_chopped"
        ],
        "colab": {
          "base_uri": "https://localhost:8080/"
        },
        "id": "38f45a92",
        "outputId": "23ca81aa-2e48-4b5d-b937-3deba5d4f3c2"
      },
      "outputs": [
        {
          "output_type": "stream",
          "name": "stdout",
          "text": [
            "Reinitialized existing Git repository in /content/.git/\n",
            "error: remote origin already exists.\n",
            "From https://github.com/mitx-8s50/nb_LEARNER\n",
            " * branch            main       -> FETCH_HEAD\n",
            "Already up to date.\n"
          ]
        }
      ],
      "source": [
        "#>>>RUN: L17.0-runcell00\n",
        "\n",
        "#Importing data:\n",
        "\n",
        "!git init\n",
        "!git remote add -f origin https://github.com/mitx-8s50/nb_LEARNER/\n",
        "!git config core.sparseCheckout true\n",
        "!echo 'data/L17' >> .git/info/sparse-checkout\n",
        "!git pull origin main"
      ]
    },
    {
      "cell_type": "markdown",
      "id": "841c4142",
      "metadata": {
        "tags": [
          "learner",
          "md"
        ],
        "id": "841c4142"
      },
      "source": [
        "<h3>Installing Tools</h3>\n",
        "\n",
        "Before we do anything, let's make sure we install the tools we need."
      ]
    },
    {
      "cell_type": "code",
      "execution_count": 20,
      "id": "40c88f9a",
      "metadata": {
        "tags": [
          "learner",
          "py",
          "learner_chopped"
        ],
        "colab": {
          "base_uri": "https://localhost:8080/"
        },
        "id": "40c88f9a",
        "outputId": "42480c83-41c2-4748-ee16-75cb2121a6e9"
      },
      "outputs": [
        {
          "output_type": "stream",
          "name": "stdout",
          "text": [
            "Requirement already satisfied: lmfit in /usr/local/lib/python3.10/dist-packages (1.3.2)\n",
            "Requirement already satisfied: asteval>=1.0 in /usr/local/lib/python3.10/dist-packages (from lmfit) (1.0.2)\n",
            "Requirement already satisfied: numpy>=1.19 in /usr/local/lib/python3.10/dist-packages (from lmfit) (1.26.4)\n",
            "Requirement already satisfied: scipy>=1.6 in /usr/local/lib/python3.10/dist-packages (from lmfit) (1.13.1)\n",
            "Requirement already satisfied: uncertainties>=3.2.2 in /usr/local/lib/python3.10/dist-packages (from lmfit) (3.2.2)\n",
            "Requirement already satisfied: dill>=0.3.4 in /usr/local/lib/python3.10/dist-packages (from lmfit) (0.3.8)\n"
          ]
        }
      ],
      "source": [
        "#>>>RUN: L17.0-runcell01\n",
        "\n",
        "!pip install lmfit"
      ]
    },
    {
      "cell_type": "markdown",
      "id": "49f887af",
      "metadata": {
        "tags": [
          "learner",
          "md"
        ],
        "id": "49f887af"
      },
      "source": [
        "<h3>Importing Libraries</h3>\n",
        "\n",
        "Before beginning, run the cell below to import the relevant libraries for this notebook."
      ]
    },
    {
      "cell_type": "code",
      "execution_count": 21,
      "id": "0f3a0154",
      "metadata": {
        "tags": [
          "learner",
          "py",
          "learner_chopped"
        ],
        "id": "0f3a0154"
      },
      "outputs": [],
      "source": [
        "#>>>RUN: L17.0-runcell02\n",
        "\n",
        "import imageio                        #https://imageio.readthedocs.io/en/stable/\n",
        "from PIL import Image                 #https://pillow.readthedocs.io/en/stable/reference/Image.html\n",
        "\n",
        "import numpy as np                    #https://numpy.org/doc/stable/\n",
        "import torch                          #https://pytorch.org/docs/stable/torch.html\n",
        "import torch.nn as nn                 #https://pytorch.org/docs/stable/nn.html\n",
        "import matplotlib.pyplot as plt       #https://matplotlib.org/3.5.3/api/_as_gen/matplotlib.pyplot.html\n",
        "\n",
        "from scipy.integrate import odeint    #https://docs.scipy.org/doc/scipy/reference/generated/scipy.integrate.odeint.html\n",
        "from scipy.optimize import minimize   #https://docs.scipy.org/doc/scipy/reference/generated/scipy.optimize.minimize.html\n",
        "import csv                            #https://docs.python.org/3/library/csv.html\n",
        "from matplotlib.patches import Circle #https://matplotlib.org/stable/api/_as_gen/matplotlib.patches.Circle.html\n",
        "from scipy.integrate import solve_ivp #https://docs.scipy.org/doc/scipy/reference/generated/scipy.integrate.solve_ivp.html"
      ]
    },
    {
      "cell_type": "markdown",
      "id": "3d515076",
      "metadata": {
        "tags": [
          "learner",
          "md"
        ],
        "id": "3d515076"
      },
      "source": [
        "<h3>Setting Default Figure Parameters</h3>\n",
        "\n",
        "The following code cell sets default values for figure parameters."
      ]
    },
    {
      "cell_type": "code",
      "execution_count": 22,
      "id": "97d0edf8",
      "metadata": {
        "tags": [
          "learner",
          "py",
          "learner_chopped"
        ],
        "id": "97d0edf8"
      },
      "outputs": [],
      "source": [
        "#>>>RUN: L17.0-runcell03\n",
        "\n",
        "#set plot resolution\n",
        "%config InlineBackend.figure_format = 'retina'\n",
        "\n",
        "#set default figure parameters\n",
        "plt.rcParams['figure.figsize'] = (9,6)\n",
        "\n",
        "medium_size = 12\n",
        "large_size = 15\n",
        "\n",
        "plt.rc('font', size=medium_size)          # default text sizes\n",
        "plt.rc('xtick', labelsize=medium_size)    # xtick labels\n",
        "plt.rc('ytick', labelsize=medium_size)    # ytick labels\n",
        "plt.rc('legend', fontsize=medium_size)    # legend\n",
        "plt.rc('axes', titlesize=large_size)      # axes title\n",
        "plt.rc('axes', labelsize=large_size)      # x and y labels\n",
        "plt.rc('figure', titlesize=large_size)    # figure title"
      ]
    },
    {
      "cell_type": "markdown",
      "id": "e198f21b",
      "metadata": {
        "tags": [
          "learner",
          "md",
          "learner_chopped"
        ],
        "id": "e198f21b"
      },
      "source": [
        "<a name='section_17_1'></a>\n",
        "<hr style=\"height: 1px;\">\n",
        "\n",
        "## <h2 style=\"border:1px; border-style:solid; padding: 0.25em; color: #FFFFFF; background-color: #90409C\">L17.1 Simulating a Pendulum</h2>  \n",
        "\n",
        "| [Top](#section_17_0) | [Previous Section](#section_17_0) | [Exercises](#exercises_17_1) | [Next Section](#section_17_2) |\n"
      ]
    },
    {
      "cell_type": "markdown",
      "id": "00dcb7cd",
      "metadata": {
        "tags": [
          "learner",
          "md"
        ],
        "id": "00dcb7cd"
      },
      "source": [
        "*The material in this section is discussed in the video **<a href=\"https://courses.mitxonline.mit.edu/learn/course/course-v1:MITxT+8.S50.3x+3T2023/block-v1:MITxT+8.S50.3x+3T2023+type@sequential+block@seq_LS17/block-v1:MITxT+8.S50.3x+3T2023+type@vertical+block@vert_LS17_vid1\" target=\"_blank\">HERE</a>.** You are encouraged to watch that video and use this notebook concurrently.*"
      ]
    },
    {
      "cell_type": "markdown",
      "id": "f44ff55b",
      "metadata": {
        "tags": [
          "learner",
          "md",
          "lect_01"
        ],
        "id": "f44ff55b"
      },
      "source": [
        "<h3>Overview</h3>\n",
        "\n",
        "A large variety of physics classes at many levels talk about the pendulum. This is that class. We can write the force for a pendulum without friction as:\n",
        "\n",
        "$$\n",
        "m \\ell \\ddot{\\theta} = -m g\\sin \\theta\n",
        "$$\n",
        "\n",
        "where we have $\\ddot{\\theta}$ denotes the second time derivative of the angle of the pendulum given by $\\theta(t)$, $\\ell$ is the length of the pendulum, $m$ is its mass, and $g$ is the gravitational constant near the surface of the Earth.\n",
        "\n",
        "Now, traditionally, this is simplified to a differential equation for the first time derivative of the angle $\\dot{\\theta}$ given by:\n",
        "\n",
        "$$\n",
        "\\frac{d}{dt}\\dot{\\theta} = -\\frac{g}{\\ell}\\sin \\theta\n",
        "$$\n",
        "\n",
        "and then we take the small angle approximation $\\theta \\ll 1$ (for which $\\sin \\theta \\approx \\theta$) which gives us:\n",
        "\n",
        "$$\n",
        "\\frac{d}{dt}\\dot{\\theta} = -\\frac{g}{\\ell} \\theta\n",
        "$$\n",
        "\n",
        "and we know the solution to this equation is given by:\n",
        "\n",
        "$$\n",
        "\\theta(t) = \\theta_{0} \\cos\\left(\\sqrt{\\frac{g}{\\ell}} t + \\phi\\right)\n",
        "$$\n",
        "\n",
        "where $\\theta_{0}$ is the initial angle of the pendulum at time $t=0$, and the parameter $\\phi$ depends on the initial angular velocity at $t=0$."
      ]
    },
    {
      "cell_type": "markdown",
      "id": "8c1491ab",
      "metadata": {
        "tags": [
          "learner",
          "md",
          "lect_01"
        ],
        "id": "8c1491ab"
      },
      "source": [
        "<h4>Numerical Stepper</h4>\n",
        "\n",
        "However, in reality, this equation does not correspond exactly to what is going on. To see that, let's set up a simulation that computes the force, and steps forward.  We will do this in the most naive way possible, by just stepping and propagating.\n",
        "\n",
        "To do that, we will define a step $\\Delta t$, and then we will update our velocity and position at each step by noting\n",
        "\n",
        "$$\n",
        "\\theta_{n+1} = \\theta_{n} + \\Delta t \\dot{\\theta}_{n}\\\\\n",
        "\\dot{\\theta}_{n+1} = \\dot{\\theta}_{n} - \\Delta t \\frac{g}{\\ell} \\theta \\\\\n",
        "$$"
      ]
    },
    {
      "cell_type": "code",
      "execution_count": 23,
      "id": "76838343",
      "metadata": {
        "tags": [
          "learner",
          "py",
          "learner_chopped",
          "lect_01"
        ],
        "colab": {
          "base_uri": "https://localhost:8080/",
          "height": 551
        },
        "id": "76838343",
        "outputId": "159ac7d7-c166-4fb2-bf55-4962125267b9"
      },
      "outputs": [
        {
          "output_type": "display_data",
          "data": {
            "text/plain": [
              "<Figure size 900x600 with 1 Axes>"
            ],
            "image/png": "[encoded data removed]"
          },
          "metadata": {
            "image/png": {
              "width": 794,
              "height": 534
            }
          }
        }
      ],
      "source": [
        "#>>>RUN: L17.1-runcell01\n",
        "\n",
        "#theta[0]=x\n",
        "#theta[1]=v\n",
        "\n",
        "def step(theta,dt,g,l):\n",
        "    theta_tmp  = theta[0]\n",
        "    theta_vtmp = theta[1]\n",
        "    theta[0] += theta_vtmp * dt\n",
        "    theta[1] += (g/l)*(-1)*theta_tmp*dt\n",
        "\n",
        "def store(theta,thetapos,time,timepos):\n",
        "    thetapos = np.vstack((thetapos,theta))\n",
        "    timepos  = np.vstack((timepos,time))\n",
        "    return timepos,thetapos\n",
        "\n",
        "def loop(istep, nsteps=10000,dt=0.01,g=9.8,l=1):\n",
        "    timepos  = np.zeros(1)\n",
        "    thetapos = np.zeros((1,2));\n",
        "    time     = 0\n",
        "    theta    = np.zeros(2)\n",
        "    theta[0] = 0.1 #initial conditions\n",
        "    theta[1] = 0.0\n",
        "    timepos,thetapos=store(theta,thetapos,time,timepos)\n",
        "    for timestep in range(nsteps):\n",
        "        istep(theta,dt,g,l)\n",
        "        time += dt\n",
        "        timepos,thetapos=store(theta,thetapos,time,timepos)\n",
        "    return timepos,thetapos\n",
        "\n",
        "timepos,thetapos=loop(step,nsteps=1000)\n",
        "\n",
        "plt.plot(timepos,thetapos[:,0],label=\"position\")\n",
        "plt.plot(timepos,thetapos[:,1],label=\"velocity\")\n",
        "plt.legend()\n",
        "plt.xlabel(\"time(s)\")\n",
        "plt.ylabel(\"position\")\n",
        "plt.show()\n"
      ]
    },
    {
      "cell_type": "markdown",
      "id": "e8fe081e",
      "metadata": {
        "tags": [
          "learner",
          "md",
          "lect_01"
        ],
        "id": "e8fe081e"
      },
      "source": [
        "Clearly, there is something wrong. Go ahead and run the simulation with 10,000 steps. What happens?"
      ]
    },
    {
      "cell_type": "markdown",
      "id": "61471f76",
      "metadata": {
        "tags": [
          "learner",
          "md",
          "lect_01"
        ],
        "id": "61471f76"
      },
      "source": [
        "<h4>Energy</h4>\n",
        "\n",
        "Now, we can go one step further and, in addition to the above, compute the total energy of the pendulum. Let's go ahead and do that. We can define the total energy as:\n",
        "\n",
        "$$\n",
        "\\mathcal{H} = \\frac{p^2}{2m} + V(\\theta)\\\\\n",
        "~ = \\frac{1}{2}m\\ell^{2}\\dot{\\theta}^{2} - mg\\ell\\cos(\\theta)\\\\\n",
        "~ = m\\ell\\left(\\frac{1}{2}\\ell\\dot{\\theta}^{2} - g\\cos(\\theta)\\right)\\\\\n",
        "$$\n",
        "\n",
        "where $V(0)$ is the gravitational potential energy taking the zero of the potential at the point where the pendulum is at $90^{\\circ}$."
      ]
    },
    {
      "cell_type": "markdown",
      "id": "5dd0ee03",
      "metadata": {
        "tags": [
          "learner",
          "md",
          "lect_01"
        ],
        "id": "5dd0ee03"
      },
      "source": [
        "<h4>About the Quantity $\\mathcal{H}$</h4>\n",
        "\n",
        "Note, we've written $\\mathcal{H}$, which stands for Hamiltonian. The Hamiltonian is equal to the **total energy of the system** (kinetic + potential), and is a useful object to work with in physics. Although we will use some Hamiltonian formalism in what follows, a full exposition of the topic is beyond the scope of this class. However, we will briefly point out a few useful concepts and definitions, below.\n",
        "\n",
        "**Generalized Coordinates:** The Hamiltonian can be expressed in terms of generalized coordinates $q$, and $p$, which represent position and momentum. For instance, in the example above, $q=\\theta$ and $p_{\\theta}=m\\ell^2\\dot{\\theta}$. For small angles, we can express the Hamiltonian as:\n",
        "\n",
        "$$\n",
        "\\mathcal{H} = \\frac{p_{\\theta}^2}{2m\\ell^2} + \\frac{m\\ell g \\theta^2}{2} - m\\ell g\n",
        "$$\n",
        "\n",
        "\n",
        "**Relation Between Coordinates:** Derivatives of the Hamiltonian are related to derivatives of the generalized coordinates in the following way,\n",
        "\n",
        "\n",
        "$$ \\frac{\\partial \\mathcal{H} }{ \\partial p_{i} } = \\dot{q}_{i}$$\n",
        "\n",
        "$$ \\frac{\\partial \\mathcal{H} }{ \\partial q_{i} } = -\\dot{p}_{i} $$  \n",
        "\n",
        "**Dimensionless Coordinates:** Sometimes it is easier to work in dimensionless coordinates, in which case the generalized Hamiltonian can more simply be expressed by the following (if we take the small-angle limit of the Hamiltonian above, and redefine the zero of the potential):\n",
        "\n",
        "$$\n",
        "\\mathcal{H} = \\frac{1}{2} q^2 + \\frac{1}{2} p^2\n",
        "$$\n",
        "\n",
        "\n",
        "We will be working with $\\mathcal{H}$, $q$, and $p$ more in the following sections. **Additionally, this will be covered in more detail in Lesson 19.**\n"
      ]
    },
    {
      "cell_type": "code",
      "execution_count": 24,
      "id": "e0744705",
      "metadata": {
        "tags": [
          "learner",
          "py",
          "learner_chopped",
          "lect_01"
        ],
        "colab": {
          "base_uri": "https://localhost:8080/",
          "height": 551
        },
        "id": "e0744705",
        "outputId": "919a2b57-b790-4415-fad5-d27611cf2141"
      },
      "outputs": [
        {
          "output_type": "display_data",
          "data": {
            "text/plain": [
              "<Figure size 900x600 with 1 Axes>"
            ],
            "image/png": "[encoded data removed]"
          },
          "metadata": {
            "image/png": {
              "width": 805,
              "height": 534
            }
          }
        }
      ],
      "source": [
        "#>>>RUN: L17.1-runcell02\n",
        "\n",
        "def energy(theta,g=9.8,l=1):\n",
        "    kin=0.5*(l*theta[:,1])**2\n",
        "    pot=-g*l*np.cos(theta[:,0])\n",
        "    return kin+pot\n",
        "\n",
        "epos = energy(thetapos)\n",
        "\n",
        "plt.plot(timepos,epos,label=\"energy\")\n",
        "plt.legend()\n",
        "plt.xlabel(\"time(s)\")\n",
        "plt.ylabel(\"Energy(j)\")\n",
        "plt.show()"
      ]
    },
    {
      "cell_type": "markdown",
      "id": "25694c6d",
      "metadata": {
        "tags": [
          "learner",
          "md",
          "lect_01"
        ],
        "id": "25694c6d"
      },
      "source": [
        "We see that our energy is growing with time, clearly it is not conserved!"
      ]
    },
    {
      "cell_type": "markdown",
      "id": "d6ad3f5d",
      "metadata": {
        "tags": [
          "learner",
          "md",
          "learner_chopped"
        ],
        "id": "d6ad3f5d"
      },
      "source": [
        "<a name='exercises_17_1'></a>     \n",
        "\n",
        "| [Top](#section_17_0) | [Restart Section](#section_17_1) | [Next Section](#section_17_2) |\n"
      ]
    },
    {
      "cell_type": "markdown",
      "id": "24b1aca7",
      "metadata": {
        "tags": [
          "learner",
          "md",
          "learner_chopped"
        ],
        "id": "24b1aca7"
      },
      "source": [
        "### <span style=\"border:3px; border-style:solid; padding: 0.15em; border-color: #90409C; color: #90409C;\">Exercise 17.1.1</span>\n",
        "\n",
        "Use the definitions for position and velocity shown below to explicitly compute the difference in energy for a step $\\Delta t$. Specifically, calculate the difference in energy $\\Delta \\mathcal{H_{1}} = \\mathcal{H_{1}}-\\mathcal{H_{0}}$. Assume an initial angle of $\\theta_0=0$ and a non-zero initial angular velocity $\\dot{\\theta}_0$.\n",
        "\n",
        "$$\n",
        "\\theta_{n+1} = \\theta_{n} + \\Delta t \\dot{\\theta}_{n}\\\\\n",
        "\\dot{\\theta}_{n+1} = \\dot{\\theta}_{n} - \\Delta t \\frac{g}{\\ell} \\theta \\\\\n",
        "$$\n",
        "\n",
        "Express your answer in terms of `m`, `g`, `l` for $\\ell$, `Deltat` for $\\Delta t$, and `thetadot_0` for $\\dot{\\theta}_0$. Make small angle approximations of any trig functions in your answer using the assumption that $\\Delta t$ is very small."
      ]
    },
    {
      "cell_type": "markdown",
      "id": "daa65b34",
      "metadata": {
        "tags": [
          "learner",
          "md",
          "learner_chopped"
        ],
        "id": "daa65b34"
      },
      "source": [
        "### <span style=\"border:3px; border-style:solid; padding: 0.15em; border-color: #90409C; color: #90409C;\">Exercise 17.1.2</span>\n",
        "\n",
        "Show that the total change in energy varies with $\\Delta t$ when stepping over the same total period of time. To do this, consider two different step sizes `dt1=0.001` and `dt2=0.01` and a total time of $10$. Create a plot of energy versus time for these choices of step size. Make sure that you step your simulation over the same total time: $n_{\\rm steps} \\times \\Delta t$.\n",
        "\n",
        "To check your code, calculate the magnitude of the fractional difference in energy between the last element of the `dt1=0.001` computation and the last energy using the `dt2=0.01` step size, i.e.,:\n",
        "\n",
        "$$\\mathrm{frac\\_diff} = \\left|\\frac{\\mathcal{H_{final}}(dt2)-\\mathcal{H_{final}}(dt1)}{\\mathcal{H_{final}}(dt1)}\\right|$$.\n",
        "\n",
        "Enter your answer as a number with precision `1e-3`.\n"
      ]
    },
    {
      "cell_type": "code",
      "execution_count": 18,
      "id": "e2040d25",
      "metadata": {
        "tags": [
          "py",
          "draft",
          "learner_chopped"
        ],
        "colab": {
          "base_uri": "https://localhost:8080/"
        },
        "id": "e2040d25",
        "outputId": "83ab10aa-ad68-492a-e3ed-08d331e67634"
      },
      "outputs": [
        {
          "output_type": "stream",
          "name": "stdout",
          "text": [
            "frac_diff: 0.007820441664855803\n"
          ]
        }
      ],
      "source": [
        "#>>>EXERCISE: L17.1.2\n",
        "\n",
        "#keep time_total fixed\n",
        "time_total = 10.\n",
        "\n",
        "###################\n",
        "#time-step 1:\n",
        "dt1 = 0.001\n",
        "nsteps1 = int(time_total/dt1)\n",
        "\n",
        "timepos1,thetapos1=loop(step,nsteps=nsteps1,dt=dt1)\n",
        "epos1 = energy(thetapos1)\n",
        "\n",
        "\n",
        "###################\n",
        "#time-step 2:\n",
        "dt2 = 0.01\n",
        "nsteps1 = int(time_total/dt2)\n",
        "\n",
        "timepos2,thetapos2=loop(step,nsteps=nsteps1,dt=dt2)\n",
        "epos2 = energy(thetapos2)\n",
        "\n",
        "###################\n",
        "#Make plots and compute\n",
        "#fractional difference in energy\n",
        "\n",
        "delta_H = epos2[-1] - epos1[-1]\n",
        "print(\"frac_diff:\", abs(delta_H/epos1[-1]))\n",
        "\n",
        "\n",
        "#MAKE PLOTS"
      ]
    },
    {
      "cell_type": "markdown",
      "id": "1576ca1b",
      "metadata": {
        "tags": [
          "learner",
          "md",
          "learner_chopped"
        ],
        "id": "1576ca1b"
      },
      "source": [
        "### <span style=\"border:3px; border-style:solid; padding: 0.15em; border-color: #90409C; color: #90409C;\">Exercise 17.1.3</span>\n",
        "\n",
        "Why is it important that energy is conserved in a numerical stepper?\n",
        "\n",
        "A) Conserving energy ensures that the numerical solution accurately reflects the physical behavior of the system, providing realistic and meaningful results.\n",
        "\n",
        "B) Energy conservation is often linked to the stability of the numerical method over long integration times, so methods that conserve energy are less likely to exhibit numerical artifacts or instability.\n",
        "\n",
        "C) In systems with oscillatory motion, conserving energy helps maintain the correct frequency and amplitude of oscillations over time.\n",
        "\n",
        "D) Deviations from energy conservation can lead to systematic errors in the solution.\n",
        "\n",
        "E) Non-conservative methods may introduce unphysical damping or amplification, leading to incorrect results and potentially misleading interpretations of the system's behavior."
      ]
    },
    {
      "cell_type": "markdown",
      "id": "9fbbc463",
      "metadata": {
        "tags": [
          "learner",
          "md",
          "learner_chopped"
        ],
        "id": "9fbbc463"
      },
      "source": [
        "<a name='section_17_2'></a>\n",
        "<hr style=\"height: 1px;\">\n",
        "\n",
        "## <h2 style=\"border:1px; border-style:solid; padding: 0.25em; color: #FFFFFF; background-color: #90409C\">L17.2 The Symplectic Approach</h2>  \n",
        "\n",
        "| [Top](#section_17_0) | [Previous Section](#section_17_1) | [Exercises](#exercises_17_2) | [Next Section](#section_17_3) |\n"
      ]
    },
    {
      "cell_type": "markdown",
      "id": "8ce49356",
      "metadata": {
        "tags": [
          "learner",
          "md"
        ],
        "id": "8ce49356"
      },
      "source": [
        "*The material in this section is discussed in the video **<a href=\"https://courses.mitxonline.mit.edu/learn/course/course-v1:MITxT+8.S50.3x+3T2023/block-v1:MITxT+8.S50.3x+3T2023+type@sequential+block@seq_LS17/block-v1:MITxT+8.S50.3x+3T2023+type@vertical+block@vert_LS17_vid2\" target=\"_blank\">HERE</a>.** You are encouraged to watch that video and use this notebook concurrently.*"
      ]
    },
    {
      "cell_type": "markdown",
      "id": "a72ff179",
      "metadata": {
        "tags": [
          "learner",
          "md",
          "lect_02"
        ],
        "id": "a72ff179"
      },
      "source": [
        "<h3>Overview</h3>\n",
        "\n",
        "We can generalize the above to what we consider the \"Symplectic\" approach, which just follows Hamilton's equations (we refer to the previous section where the Hamiltonian formalism is introduced, and also suggest further reading if this topic is new). Here, the term \"Symplectic\" refers to a method of integration that solves Hamilton's equations and maintains a conserved quantity.\n",
        "\n",
        "As we saw before, the change in position is defined as a derivative of the Hamiltonian with respect to momentum:\n",
        "\n",
        "$$\n",
        "\\frac{\\partial \\mathcal{H} }{ \\partial p_{i} } = \\dot{q}_{i}\n",
        "$$\n",
        "\n",
        "and the derivative of the Hamiltonian with respect to position $q_{i}$ gives us the negative of the time derivative of momentum:\n",
        "\n",
        "$$ \\frac{\\partial \\mathcal{H} }{ \\partial q_{i} } = -\\dot{p}_{i} $$  \n",
        "\n",
        "If we know what $p$ is, and if we know our force or potential, this governs everything.\n"
      ]
    },
    {
      "cell_type": "markdown",
      "id": "2ae71f08",
      "metadata": {
        "tags": [
          "learner",
          "md",
          "lect_02"
        ],
        "id": "2ae71f08"
      },
      "source": [
        "<h4>A Generic Example</h4>\n",
        "\n",
        "Solving for the motion through the Hamiltonian, while seemingly simple, can get progressively more complicated as we start to probe the finer details of what is going on. This is particularly true if we are trying to integrate complex formulae. Before we get to solving for motion in a specific physics problem, let's consider solving a more generic situation by writing:  \n",
        "\n",
        "$$\\frac{dx}{dt} = f(x,t) $$\n",
        "\n",
        "The full solution of this problem would give us:\n",
        "\n",
        "$$ \\int dx = \\int f(x,t) dt $$ or\n",
        "\n",
        "$$ x(t)-x_0 = \\int_{t_{0}}^{t} f(x,t) dt $$\n",
        "\n",
        "where we have added the initial condition that, at some time $t_0$, $x(t_{0})=x_{0}$. The simplest way to integrate this guy is using Euler's method, which is just the inverse of a Taylor expansion, or a stepwise integration.\n",
        "\n",
        "We can write this as:\n",
        "\n",
        "$$x_{1}(t_{0}+\\Delta t) = x_0 + f(t_{0},x_{0})\\Delta t$$\n",
        "\n",
        "Moreover, we can then step this integral using our knowledge of $f$ to write a recursive relation for $x(t)$ given by:\n",
        "\n",
        "$$x_{n}(t) = x_{n-1} + f(t_{n-1},x_{n-1})\\Delta t $$\n",
        "\n",
        "This is known as Euler's method for first order differential equations. This is what we did in the previous section."
      ]
    },
    {
      "cell_type": "markdown",
      "id": "05aa8c3b",
      "metadata": {
        "tags": [
          "learner",
          "md",
          "lect_02"
        ],
        "id": "05aa8c3b"
      },
      "source": [
        "<h4>Second-Order Term</h4>\n",
        "\n",
        "Now the second, more sophisticated, approach is to add a second order term namely:\n",
        "\n",
        "$$x_{1}(\\Delta t) = x_0 + f(t_{0},x_{0})\\Delta t  + \\frac{1}{2} \\frac{df}{dt}(t_{0},x_{0})\\Delta t^{2} $$\n",
        "\n",
        "and recursively we can write:\n",
        "\n",
        "$$x_{n}(t) = x_{n-1} + f(t_{n-1},x_{n-1})\\Delta t  + \\frac{1}{2} \\frac{df}{dt}(t_{n-1},x_{n-1})\\Delta t^{2} $$\n",
        "\n",
        "Let's see how this works.\n",
        ""
      ]
    },
    {
      "cell_type": "code",
      "execution_count": null,
      "id": "6754fe78",
      "metadata": {
        "tags": [
          "learner",
          "py",
          "learner_chopped",
          "lect_02"
        ],
        "id": "6754fe78"
      },
      "outputs": [],
      "source": [
        "#>>>RUN: L17.2-runcell01\n",
        "\n",
        "def step(theta,dt,g,l):\n",
        "    theta_tmp  = theta[0]\n",
        "    theta_vtmp = theta[1]\n",
        "    theta[0] += theta_vtmp * dt + 0.5*(g/l)*(-1)*np.sin(theta_tmp)*dt**2 #comment out higher-order term if desired\n",
        "    theta[1] += (g/l)*(-1)*np.sin(theta_tmp)*dt\n",
        "    #theta[1] += (g/l)*(-1)*theta_tmp*dt\n",
        "\n",
        "\n",
        "def energy(theta,g=9.8,l=1):\n",
        "    kin=0.5*l*l*theta[:,1]**2\n",
        "    pot=-g*l*np.cos(theta[:,0])\n",
        "    return kin+pot\n",
        "\n",
        "timepos,thetapos=loop(step,nsteps=1000,dt=0.01)\n",
        "\n",
        "plt.plot(timepos,thetapos[:,0],label=\"position\")\n",
        "plt.plot(timepos,thetapos[:,1],label=\"velocity\")\n",
        "plt.legend()\n",
        "plt.xlabel(\"time(s)\")\n",
        "plt.ylabel(\"position or velocity\")\n",
        "plt.show()\n",
        "\n",
        "timepos,thetapos=loop(step,nsteps=1000,dt=0.01)\n",
        "epos = energy(thetapos)\n",
        "\n",
        "plt.plot(timepos[1:-1],epos[1:-1],label=\"energy\")\n",
        "plt.legend()\n",
        "plt.xlabel(\"time(s)\")\n",
        "plt.ylabel(\"energy\")\n",
        "plt.show()\n"
      ]
    },
    {
      "cell_type": "markdown",
      "id": "006ca7dc",
      "metadata": {
        "tags": [
          "learner",
          "md",
          "lect_02"
        ],
        "id": "006ca7dc"
      },
      "source": [
        "Note that the change in energy is not zero, but it's smaller than we found with just the first order term (-9.75 to -9.72 versus -9.75 to -9.67)."
      ]
    },
    {
      "cell_type": "markdown",
      "id": "b603d1be",
      "metadata": {
        "tags": [
          "learner",
          "md",
          "lect_02"
        ],
        "id": "b603d1be"
      },
      "source": [
        "<h4>Hamiltonian Monte Carlo</h4>\n",
        "\n",
        "Now, we can formalize this into what is often referred to as a Hamiltonian Monte Carlo by writing step equations from the Hamiltonian motion. For a time step $\\Delta t$, we can make an interconnected set of integrations in momentum and position following the Hamiltonian MC. This we can write as:\n",
        "\n",
        "$$\n",
        "q_{n+1} =  q_{n} + \\Delta t \\frac{\\partial \\mathcal{H} }{ \\partial p_{i} }\n",
        "$$\n",
        "\n",
        "\n",
        "and the derivative of the Hamiltonian with respect to position $q_{i}$ gives us the time derivative of momentum (note the minus sign):\n",
        "\n",
        "$$\n",
        "p_{n+1} = p_{n} - \\Delta t \\frac{\\partial \\mathcal{H} }{ \\partial q_{i} }\n",
        "$$  \n",
        "\n",
        "Thinking about this in the context of the Hamiltonian is critical because we have some conservation laws that we can use. In particular, through the conservation of energy:\n",
        "$$\n",
        "\\frac{d\\mathcal{H}}{dt} = \\frac{\\partial \\mathcal{H} }{ \\partial q_{i} } \\frac{dq_{i}}{dt} +  \\frac{\\partial \\mathcal{H} }{ \\partial p_{i} } \\frac{dp_{i}}{dt}\\\\\n",
        "\\frac{d\\mathcal{H}}{dt} = -\\frac{dp_{i}}{dt} \\frac{dq_{i}}{dt} +  \\frac{dq_{i}}{dt}\\frac{dp_{i}}{dt}=0\\\\\n",
        "$$\n"
      ]
    },
    {
      "cell_type": "markdown",
      "id": "d9b9e608",
      "metadata": {
        "tags": [
          "learner",
          "md",
          "learner_chopped"
        ],
        "id": "d9b9e608"
      },
      "source": [
        "<a name='exercises_17_2'></a>     \n",
        "\n",
        "| [Top](#section_17_0) | [Restart Section](#section_17_2) | [Next Section](#section_17_3) |\n"
      ]
    },
    {
      "cell_type": "markdown",
      "id": "052b6b3b",
      "metadata": {
        "tags": [
          "learner",
          "md",
          "learner_chopped"
        ],
        "id": "052b6b3b"
      },
      "source": [
        "### <span style=\"border:3px; border-style:solid; padding: 0.15em; border-color: #90409C; color: #90409C;\">Exercise 17.2.1</span>\n",
        "\n",
        "Compare the energy conservation for a quadratic approximation of the Euler method vs the linear approximation, over a period of 10s. Make any relevant plots to help your analysis.\n",
        "\n",
        "To check your result, calculate the magnitude of the fractional difference in energy between the last elements of your computation, relative to the energy computed using the quadratic approximation, i.e.,:\n",
        "\n",
        "$$\\mathrm{frac\\_diff} = \\left|\\frac{\\mathcal{H_{linear}}(10s)-\\mathcal{H_{quadratic}}(10s)}{\\mathcal{H_{quadratic}}(10s)}\\right|$$.\n",
        "\n",
        "Enter your answer as a number with precision `1e-3`."
      ]
    },
    {
      "cell_type": "code",
      "execution_count": 25,
      "id": "5ef856c2",
      "metadata": {
        "tags": [
          "py",
          "draft",
          "learner_chopped"
        ],
        "colab": {
          "base_uri": "https://localhost:8080/"
        },
        "id": "5ef856c2",
        "outputId": "f1f399c0-992d-4427-d8d0-5a44dc30433e"
      },
      "outputs": [
        {
          "output_type": "stream",
          "name": "stdout",
          "text": [
            "frac_diff: 0.00514919975642465\n"
          ]
        }
      ],
      "source": [
        "#>>>EXERCISE: L17.2.1\n",
        "\n",
        "#Functions\n",
        "##########\n",
        "\n",
        "def stepl(theta,dt,g,l):\n",
        "    #linear stepper\n",
        "    theta_tmp  = theta[0]\n",
        "    theta_vtmp = theta[1]\n",
        "    theta[0] += theta_vtmp * dt\n",
        "    theta[1] += (g/l)*(-1)*np.sin(theta_tmp)*dt\n",
        "\n",
        "def stepq(theta,dt,g,l):\n",
        "    #quadratic stepper\n",
        "    theta_tmp  = theta[0]\n",
        "    theta_vtmp = theta[1]\n",
        "    theta[0] += theta_vtmp * dt + 0.5*(g/l)*(-1)*np.sin(theta_tmp)*dt**2\n",
        "    theta[1] += (g/l)*(-1)*np.sin(theta_tmp)*dt\n",
        "\n",
        "#run steps\n",
        "##########\n",
        "\n",
        "timeposl,thetaposl=loop(stepl,nsteps=1000,dt=0.01)\n",
        "timeposq,thetaposq=loop(stepq,nsteps=1000,dt=0.01)\n",
        "eposl = energy(thetaposl)\n",
        "eposq = energy(thetaposq)\n",
        "\n",
        "\n",
        "###################\n",
        "#Make plots and compute\n",
        "#fractional difference in energy\n",
        "\n",
        "delta_H = eposl[-1] - eposq[-1]\n",
        "print(\"frac_diff:\", abs(delta_H/eposq[-1]))"
      ]
    },
    {
      "cell_type": "markdown",
      "id": "fa27c4f1",
      "metadata": {
        "tags": [
          "learner",
          "md",
          "learner_chopped"
        ],
        "id": "fa27c4f1"
      },
      "source": [
        "<a name='section_17_3'></a>\n",
        "<hr style=\"height: 1px;\">\n",
        "\n",
        "## <h2 style=\"border:1px; border-style:solid; padding: 0.25em; color: #FFFFFF; background-color: #90409C\">L17.3 The Leap-Frog Verlet Approach</h2>  \n",
        "\n",
        "| [Top](#section_17_0) | [Previous Section](#section_17_2) | [Exercises](#exercises_17_3) | [Next Section](#section_17_4) |\n"
      ]
    },
    {
      "cell_type": "markdown",
      "id": "339dd36f",
      "metadata": {
        "tags": [
          "learner",
          "md"
        ],
        "id": "339dd36f"
      },
      "source": [
        "*The material in this section is discussed in the video **<a href=\"https://courses.mitxonline.mit.edu/learn/course/course-v1:MITxT+8.S50.3x+3T2023/block-v1:MITxT+8.S50.3x+3T2023+type@sequential+block@seq_LS17/block-v1:MITxT+8.S50.3x+3T2023+type@vertical+block@vert_LS17_vid3\" target=\"_blank\">HERE</a>.** You are encouraged to watch that video and use this notebook concurrently.*"
      ]
    },
    {
      "cell_type": "markdown",
      "id": "f70d60c3",
      "metadata": {
        "tags": [
          "learner",
          "md",
          "lect_03"
        ],
        "id": "f70d60c3"
      },
      "source": [
        "<h3>Overview</h3>\n",
        "\n",
        "Now, to be honest, we can continue to approximate things with higher and higher orders. However, there is a really quick fix that we can do to start to conserve energy. This conservation stems from the fact that our estimates for the propagation tend to go in one direction.\n",
        "\n",
        "We will explain more below, but first let's start by rewriting the Hamiltonian for our pendulum system. In the small angle limit, the simple pendulum is a harmonic oscillator, meaning it has a restoring force that is proportional to the displacement. As mentioned in the first section, we can re-express the Hamiltonian in dimesnionless units (with appropriate choice for the zero-point of the potential), as:\n",
        "\n",
        "$$\n",
        "\\mathcal{H} = \\frac{1}{2} q^2 + \\frac{1}{2} p^2\n",
        "$$\n",
        "\n",
        "This formula is nice to work with because it defines a circle in the $p$, $q$ plane, with fixed radius related to $\\mathcal{H}$ . Thus, time evolution (i.e., a transformation of the $p$, $q$ variables), can be represented as a rotation along this circle.\n",
        "\n",
        "**We will utilize this concept moving forward, but note that, as we proceed with the derivation below, what we’re leading up to is an approximation for small time steps. The details are not essential, but they are here for completeness.**"
      ]
    },
    {
      "cell_type": "markdown",
      "id": "0da9c7c1",
      "metadata": {
        "tags": [
          "learner",
          "md",
          "lect_03"
        ],
        "id": "0da9c7c1"
      },
      "source": [
        "<h3>Derivation of Conservative Stepper</h3>\n",
        "\n",
        "\n",
        "The step updates can be written as:\n",
        "\n",
        "$$\n",
        "\\begin{pmatrix}\n",
        "p_{n+1} \\\\\n",
        "q_{n+1}\n",
        "\\end{pmatrix}\n",
        "=\n",
        "\\begin{pmatrix}\n",
        "\\cos(\\Delta t) & \\sin(\\Delta t) \\\\\n",
        "-\\sin(\\Delta t) & \\cos(\\Delta t)\n",
        "\\end{pmatrix}\n",
        "\\begin{pmatrix}\n",
        "p_{n} \\\\\n",
        "q_{n}\n",
        "\\end{pmatrix}\n",
        "$$\n",
        "\n",
        "which, assuming small $\\Delta t$, we can approximate as:\n",
        "\n",
        "\n",
        "$$\n",
        "\\begin{pmatrix}\n",
        "p_{n+1} \\\\\n",
        "q_{n+1}\n",
        "\\end{pmatrix}\n",
        "=\n",
        "\\begin{pmatrix}\n",
        "1 & \\Delta t \\\\\n",
        "-\\Delta t & 1\n",
        "\\end{pmatrix}\n",
        "\\begin{pmatrix}\n",
        "p_{n} \\\\\n",
        "q_{n}\n",
        "\\end{pmatrix}\n",
        "$$\n",
        "\n",
        "which gives us the updated equations:\n",
        "\n",
        "$$\n",
        "q_{n+1} = q_{n} + \\Delta t p_{n}\\\\\n",
        "p_{n+1} = p_{n} - \\Delta t q_{n}\n",
        "$$\n",
        "\n",
        "\n",
        "We can then write the Hamiltonian for the $n+1$ as:\n",
        "\n",
        "$$\n",
        "\\mathcal{H}_{n+1} = \\frac{1}{2} \\left(q_n + \\Delta t p_{n}\\right)^{2} +  \\frac{1}{2} \\left( p_{n} - \\Delta t q_{n}\\right)^{2} \\\\\n",
        "\\mathcal{H}_{n+1} = \\frac{1}{2} q_{n}^2  + \\frac{1}{2} p_{n}^2 + \\frac{\\Delta t^2}{2} \\left(p_n^2  +  q_{n}^2\\right) \\\\\n",
        "\\mathcal{H}_{n+1} = \\frac{\\left(1+\\Delta t^2\\right)}{2}\\left( q_{n}^2  +  p_{n}^2\\right)\\\\\n",
        "$$\n",
        "\n",
        "This clearly doesn't conserve energy, and we see it is $\\Delta t $ dependent. What we need to do is come up with a strategy to mitigate this problem. **One simple way is to update position and momentum terms in the Hamiltonian one at a time.** First, let's update just the momentum value:\n",
        "\n",
        "\n",
        "$$\n",
        "\\mathcal{H}_{n+1} = \\frac{1}{2} \\left(q_n \\right)^{2} +  \\frac{1}{2} \\left( p_{n} - \\Delta t q_{n}\\right)^{2} \\\\\n",
        "\\mathcal{H}_{n+1} = \\frac{1}{2} q_{n}^2  + \\frac{1}{2} p_{n}^2 +  \\left(\\frac{\\Delta t^2}{2} p_n^2  - 2 \\Delta t q_{n}p_{n} \\right) \\\\\n",
        "$$\n",
        "\n",
        "Then, we update $q_{n}$ with the updated value of $p_{n+1}$. We can do both steps at once using two matrix transformations, shown below:\n",
        "\n",
        "$$\n",
        "\\begin{pmatrix}\n",
        "p_{n+1} \\\\\n",
        "q_{n+1}\n",
        "\\end{pmatrix}\n",
        "=\n",
        "\\begin{pmatrix}\n",
        "1 & -\\Delta t \\\\\n",
        "0 & 1\n",
        "\\end{pmatrix}\n",
        "\\begin{pmatrix}\n",
        "1 & 0 \\\\\n",
        "\\Delta t & 1\n",
        "\\end{pmatrix}\n",
        "\\begin{pmatrix}\n",
        "p_{n} \\\\\n",
        "q_{n}\n",
        "\\end{pmatrix}\n",
        "$$\n",
        "\n",
        "\n",
        "$$\n",
        "\\begin{pmatrix}\n",
        "p_{n+1} \\\\\n",
        "q_{n+1}\n",
        "\\end{pmatrix}\n",
        "=\n",
        "\\begin{pmatrix}\n",
        "1 & -\\Delta t \\\\\n",
        "0 & 1\n",
        "\\end{pmatrix}\n",
        "\\begin{pmatrix}\n",
        "p_{n} \\\\\n",
        "q_{n}+p_{n}\\Delta t\n",
        "\\end{pmatrix}\n",
        "$$\n",
        "\n",
        "$$\n",
        "\\begin{pmatrix}\n",
        "p_{n+1} \\\\\n",
        "q_{n+1}\n",
        "\\end{pmatrix}\n",
        "=\n",
        "\\begin{pmatrix}\n",
        "p_{n} - \\Delta t (q_{n}+p_{n}\\Delta t )  \\\\\n",
        "q_{n}+p_{n}\\Delta t\n",
        "\\end{pmatrix}\n",
        "$$\n",
        "\n",
        "\n",
        "We can now write the total energy of the system as:\n",
        "\n",
        "$$\n",
        "E = \\frac{1}{2} \\left(p_{n}^2 + q_{n}^2 + \\Delta t^2 (-p_{n}^2+q_{n}^2) + 2\\Delta t^3 p_{n} q_{n} + \\Delta t^4 p_{n}^2 \\right)\n",
        "$$\n",
        "\n",
        "\n",
        "This differs from before in the sense that we now have a term that is not exclusively positive, namely $\\Delta t^2 (p_{n}^2-q_{n}^2)$. However, since the determinant of each step is 1\\*, the steps volume preserving by construction , which means that this iterative procedure yields a conserved quantity. \\**Note, in linear algebra, a transformation with a determinant of 1 preserves the volume of any region it acts on.*\n",
        "\n",
        "\n",
        "We can write this conserved quantity noting that:\n",
        "\n",
        "$$\n",
        "\\Delta t p_{n+1} q_{n+1}  = \\Delta t p_{n} q_{n} -  \\Delta t^2 p_{n}^2 +  \\Delta t^2 q_{n}^2 - 2 \\Delta t^3 p_{n} q_{n} - \\Delta t^4 p_{n}^2 \\\\\n",
        "$$\n",
        "\n",
        "which implies that\n",
        "\n",
        "$$\n",
        "E_{n+1} + \\Delta t p_{n+1} q_{n+1} = E_{n} + \\Delta t p_{n} q_{n}\n",
        "$$\n",
        "\n",
        "\n",
        "In other words, we have constructed a conserved quantity. However, it is not the conserved quantity that we wish to conserve. As a consequence, while our approximation is volume preserving in phase space (as noted above), it does not ensure that energy is conserved.\n",
        "\n",
        "**In any case, what the above state of operations does imply is that we can alternate applications to get a better update. Let's go ahead and step that.**\n"
      ]
    },
    {
      "cell_type": "code",
      "execution_count": null,
      "id": "c8c1ac12",
      "metadata": {
        "tags": [
          "learner",
          "py",
          "learner_chopped",
          "lect_03"
        ],
        "id": "c8c1ac12"
      },
      "outputs": [],
      "source": [
        "#>>>RUN: L17.3-runcell01\n",
        "\n",
        "\n",
        "def altstep(theta,dt,g,l):\n",
        "    theta[0] += theta[1] * dt\n",
        "    theta[1] += (g/l)*(-1)*np.sin(theta[0])*dt\n",
        "\n",
        "def loop(istep,nsteps=1000,dt=0.01,g=9.8,l=1):\n",
        "    timepos  = np.zeros(1)\n",
        "    thetapos = np.zeros((1,2));\n",
        "    time     = 0\n",
        "    theta    = np.zeros(2)\n",
        "    theta[0] = 0.1 #initial conditions\n",
        "    theta[1] = 0.0\n",
        "    #theta[1] += (g/l)*(-1)*theta[0]*dt*0.5 #half step\n",
        "    timepos,thetapos=store(theta,thetapos,time,timepos)\n",
        "    for timestep in range(nsteps):\n",
        "        istep(theta,dt,g,l)\n",
        "        time += dt\n",
        "        timepos,thetapos=store(theta,thetapos,time,timepos)\n",
        "    return timepos,thetapos\n",
        "\n",
        "\n",
        "timepos,thetapos=loop(altstep,nsteps=1000,dt=0.01)\n",
        "plt.plot(timepos,thetapos[:,0],label=\"position\")\n",
        "plt.plot(timepos,thetapos[:,1],label=\"velocity\")\n",
        "plt.legend()\n",
        "plt.xlabel(\"time(s)\")\n",
        "plt.ylabel(\"position or velocity\")\n",
        "plt.show()\n",
        "\n",
        "epos = energy(thetapos)\n",
        "\n",
        "plt.plot(timepos[1:-1],epos[1:-1],label=\"energy\")\n",
        "plt.legend()\n",
        "plt.xlabel(\"time(s)\")\n",
        "plt.ylabel(\"energy\")\n",
        "plt.show()\n"
      ]
    },
    {
      "cell_type": "markdown",
      "id": "e5c87ccc",
      "metadata": {
        "tags": [
          "learner",
          "md",
          "lect_03"
        ],
        "id": "e5c87ccc"
      },
      "source": [
        "Now, this alternation gets us to the leap-frog/verlet algorithm whereby we just alternate updates. The formal algorithm proceeds in 3 steps :\n",
        "\n",
        "  * $p_{n+\\frac{1}{2}} = p_{n} - \\dfrac{\\Delta t}{2} \\dfrac{\\partial \\mathcal{H}}{\\partial{q}} \\left(q_{n}\\right)$\n",
        "  * $q_{n+1}           = q_{n} + \\Delta t \\dfrac{\\partial \\mathcal{H}}{\\partial{p}} \\left(p_{n+\\frac{1}{2}}\\right)$\n",
        "  * $p_{n+1}           = p_{n+\\frac{1}{2}} - \\dfrac{\\Delta t}{2} \\dfrac{\\partial \\mathcal{H}}{\\partial{q}} \\left(q_{n+1}\\right)$\n",
        "  \n",
        "which we then iterate over and over again. Let's go ahead and implement this, it's really the same as what was done above, but now with a half step.\n"
      ]
    },
    {
      "cell_type": "code",
      "execution_count": null,
      "id": "b213b8ba",
      "metadata": {
        "tags": [
          "learner",
          "py",
          "learner_chopped",
          "lect_03"
        ],
        "id": "b213b8ba"
      },
      "outputs": [],
      "source": [
        "#>>>RUN: L17.3-runcell02\n",
        "\n",
        "def lfstep(theta,dt,g,l):\n",
        "    theta[1] += 0.5*(g/l)*(-1)*np.sin(theta[0])*dt\n",
        "    theta[0] += theta[1] * dt\n",
        "    #theta[1] += (g/l)*(-1)*theta[0]*dt\n",
        "    theta[1] += 0.5*(g/l)*(-1)*np.sin(theta[0])*dt\n",
        "\n",
        "def loop(istep,nsteps=1000,dt=0.01,g=9.8,l=1):\n",
        "    timepos  = np.zeros(1)\n",
        "    thetapos = np.zeros((1,2));\n",
        "    time     = 0\n",
        "    theta    = np.zeros(2)\n",
        "    theta[0] = 0.1 #initial conditions\n",
        "    theta[1] = 0.0\n",
        "    #theta[1] += (g/l)*(-1)*theta[0]*dt*0.5 #half step\n",
        "    timepos,thetapos=store(theta,thetapos,time,timepos)\n",
        "    for timestep in range(nsteps):\n",
        "        istep(theta,dt,g,l)\n",
        "        time += dt\n",
        "        timepos,thetapos=store(theta,thetapos,time,timepos)\n",
        "    return timepos,thetapos\n",
        "\n",
        "\n",
        "timepos,thetapos=loop(lfstep,nsteps=1000,dt=0.01)\n",
        "plt.plot(timepos,thetapos[:,0],label=\"position\")\n",
        "plt.plot(timepos,thetapos[:,1],label=\"velocity\")\n",
        "plt.legend()\n",
        "plt.xlabel(\"time(s)\")\n",
        "plt.ylabel(\"position or velocity\")\n",
        "plt.show()\n",
        "\n",
        "epos = energy(thetapos)\n",
        "print(\"E0:\",epos[1],\"E1:\",epos[-1])\n",
        "\n",
        "plt.plot(timepos[1:-1],epos[1:-1],label=\"energy\")\n",
        "plt.legend()\n",
        "plt.xlabel(\"time(s)\")\n",
        "plt.ylabel(\"energy\")\n",
        "plt.show()\n"
      ]
    },
    {
      "cell_type": "markdown",
      "id": "6e193f6a",
      "metadata": {
        "tags": [
          "learner",
          "md",
          "lect_03"
        ],
        "id": "6e193f6a"
      },
      "source": [
        "Note that the energy variations are now very, very small. The auto-scale function in plt.plot is clever enough to recognize this and make a very different sort of vertical scale. The text outside the top left of the plot (1e-5-9.751) means that what is plotted is the energy minus 9.751 with units of $10^{-5}$. So, the midpoint of the vertical scale is $9.751-4.7\\times10^{-5}$."
      ]
    },
    {
      "cell_type": "markdown",
      "id": "a6a0367d",
      "metadata": {
        "tags": [
          "learner",
          "md",
          "lect_03"
        ],
        "id": "a6a0367d"
      },
      "source": [
        "The above procedure is known as the Leap-Frog or Leap-Frog Verlet procedure. The leap-frog should be pretty clear, we are effectively jumping updates between position and momentum. The big advantage to this is that it is volume preserving, given that the determinant is 1."
      ]
    },
    {
      "cell_type": "markdown",
      "id": "d23ccb41",
      "metadata": {
        "tags": [
          "learner",
          "md",
          "learner_chopped"
        ],
        "id": "d23ccb41"
      },
      "source": [
        "<a name='exercises_17_3'></a>     \n",
        "\n",
        "| [Top](#section_17_0) | [Restart Section](#section_17_3) | [Next Section](#section_17_4) |\n"
      ]
    },
    {
      "cell_type": "markdown",
      "id": "31c5b7b1",
      "metadata": {
        "tags": [
          "learner",
          "md",
          "learner_chopped"
        ],
        "id": "31c5b7b1"
      },
      "source": [
        "### <span style=\"border:3px; border-style:solid; padding: 0.15em; border-color: #90409C; color: #90409C;\">Exercise 17.3.1</span>\n",
        "\n",
        "Take a closer look at the position, velocity, and energy distributions above. How does the frequency of the energy variation compare to the natural oscillation frequency of the system? Where does this variation come from?\n",
        "\n",
        "The frequency of energy oscillation is\n",
        "\n",
        "A) equal to the natural frequency of oscillation of the system.\\\n",
        "B) half the natural frequency of oscillation of the system.\\\n",
        "C) double the natural frequency of oscillation of the system.\n"
      ]
    },
    {
      "cell_type": "markdown",
      "id": "079ef39f",
      "metadata": {
        "tags": [
          "learner",
          "md",
          "learner_chopped"
        ],
        "id": "079ef39f"
      },
      "source": [
        "### <span style=\"border:3px; border-style:solid; padding: 0.15em; border-color: #90409C; color: #90409C;\">Exercise 17.3.2</span>\n",
        "\n",
        "How is energy conserved in the Leap-Frog Verlet procedure? Choose the most appropriate option:\n",
        "\n",
        "A) The procedure adjusts energy explicitly at each time step to ensure conservation.\n",
        "\n",
        "B) Energy conservation is achieved through random position updates.\n",
        "\n",
        "C) Energy conservation results from staggered position and velocity updates.\n",
        "\n",
        "D) The procedure continuously corrects velocity to maintain consistent energy conservation.\n",
        "\n"
      ]
    },
    {
      "cell_type": "markdown",
      "id": "0479a377",
      "metadata": {
        "tags": [
          "learner",
          "md",
          "learner_chopped"
        ],
        "id": "0479a377"
      },
      "source": [
        "<a name='section_17_4'></a>\n",
        "<hr style=\"height: 1px;\">\n",
        "\n",
        "## <h2 style=\"border:1px; border-style:solid; padding: 0.25em; color: #FFFFFF; background-color: #90409C\">L17.4 Runge-Kutta</h2>  \n",
        "\n",
        "| [Top](#section_17_0) | [Previous Section](#section_17_3) | [Exercises](#exercises_17_4) | [Next Section](#section_17_5) |\n"
      ]
    },
    {
      "cell_type": "markdown",
      "id": "abf757ad",
      "metadata": {
        "tags": [
          "learner",
          "md"
        ],
        "id": "abf757ad"
      },
      "source": [
        "*The material in this section is discussed in the video **<a href=\"https://courses.mitxonline.mit.edu/learn/course/course-v1:MITxT+8.S50.3x+3T2023/block-v1:MITxT+8.S50.3x+3T2023+type@sequential+block@seq_LS17/block-v1:MITxT+8.S50.3x+3T2023+type@vertical+block@vert_LS17_vid4\" target=\"_blank\">HERE</a>.** You are encouraged to watch that video and use this notebook concurrently.*"
      ]
    },
    {
      "cell_type": "markdown",
      "id": "02fea31f",
      "metadata": {
        "tags": [
          "learner",
          "md",
          "lect_04"
        ],
        "id": "02fea31f"
      },
      "source": [
        "<h3>Overview</h3>\n",
        "\n",
        "Once we advance the concepts of integral approximation, we can start to play numerical tricks to get to very high precision. There has been a lot of work along these lines over time. Perhaps the most well known and commonly used is the Runge-Kutta Algorithm.\n",
        "\n",
        "Finally, we can do something a bit more complicated by defining a differential equation that is a function of time and position. What we can envision is a velocity function that is a function of $\\theta$ and time $t$\n",
        "\n",
        "$$\n",
        "\\dot{\\theta} \\equiv \\theta_{v}(\\theta,t) \\\\\n",
        "\\theta_{v}(\\theta,t) \\approx \\dot{\\theta} - \\frac{g}{l} \\Delta t \\sin(\\theta)\n",
        "$$\n",
        "\n",
        "Likewise, we can envision the acceleration as a function of time and acceleration.\n",
        "\n",
        "$$\n",
        "\\ddot{\\theta} \\equiv \\theta_{a}(\\dot{\\theta},t) \\\\\n",
        "\\theta_{a}(\\theta,t) = - \\frac{g}{l} \\Delta t \\sin(\\theta)\n",
        "$$\n",
        "\n",
        "\n",
        "What we can then do is step the velocity and acceleration hand in hand, but now using the averages of the velocity and acceleration over the time step.\n",
        "\n",
        "$$\n",
        "\\theta_{n+1}       = \\theta_{n}       + \\frac{\\Delta t}{2} (\\dot{\\theta}_n + \\dot{\\theta}_{n+1}) \\\\\n",
        "\\dot{\\theta}_{n+1} = \\dot{\\theta}_{n} + \\frac{\\Delta t}{2} (\\ddot{\\theta}_n + \\ddot{\\theta}_{n+1})\n",
        "$$\n",
        "\n",
        "We also expand our total time by a factor of 10 over what we did previously.\n"
      ]
    },
    {
      "cell_type": "code",
      "execution_count": null,
      "id": "5c6fe96b",
      "metadata": {
        "tags": [
          "learner",
          "py",
          "learner_chopped",
          "lect_04"
        ],
        "id": "5c6fe96b"
      },
      "outputs": [],
      "source": [
        "#>>>RUN: L17.4-runcell01\n",
        "\n",
        "def thetaa(itheta,g,l):\n",
        "    return -(g/l)*np.sin(itheta)\n",
        "\n",
        "def thetav(ithetad):\n",
        "    return ithetad# - (g/l)*np.sin(itheta)*idt\n",
        "\n",
        "def rkstep(theta,dt,g,l):\n",
        "    thetan    = theta[0]\n",
        "    thetavn   = theta[1]\n",
        "    thetaan   = thetaa(thetan,g,l)\n",
        "    #theta[0] += dt*0.5*(thetavn+thetav(thetavn,dt*0.5,thetan,g,l))#current + extrapolated\n",
        "    #theta[1] += dt*0.5*(thetaa(theta[0],0,0,g,l) + thetaa(theta[0],dt,thetavn,g,l))\n",
        "    theta[0] += 0.5*dt*(thetavn + thetav(thetavn+dt*thetaa(thetan,g,l)    ))\n",
        "    theta[1] += 0.5*dt*(thetaan + thetaa(thetan +dt*thetav(thetavn   ),g,l))\n",
        "\n",
        "def loop(nsteps=100000,dt=0.01,g=9.8,l=1):\n",
        "    timepos  = np.zeros(1)\n",
        "    thetapos = np.zeros((1,2));\n",
        "    time     = 0\n",
        "    theta    = np.zeros(2)\n",
        "    theta[0] = 0.1 #initial conditions\n",
        "    theta[1] = 0.0\n",
        "    theta[1] += dt*0.5*(thetaa(theta[0],g,l))\n",
        "    timepos,thetapos=store(theta,thetapos,time,timepos)\n",
        "    for timestep in range(nsteps):\n",
        "        rkstep(theta,dt,g,l)\n",
        "        time += dt\n",
        "        timepos,thetapos=store(theta,thetapos,time,timepos)\n",
        "    return timepos,thetapos\n",
        "\n",
        "\n",
        "timepos,thetapos=loop(nsteps=10000,dt=0.01)\n",
        "\n",
        "plt.plot(timepos,thetapos[:,0],label=\"position\")\n",
        "plt.plot(timepos,thetapos[:,1],label=\"velocity\")\n",
        "plt.legend()\n",
        "plt.xlabel(\"time(s)\")\n",
        "plt.ylabel(\"position or velocity\")\n",
        "plt.show()\n",
        "\n",
        "epos = energy(thetapos)\n",
        "\n",
        "plt.plot(timepos[1:-1],epos[1:-1],label=\"energy\")\n",
        "plt.legend()\n",
        "plt.xlabel(\"time(s)\")\n",
        "plt.ylabel(\"energy\")\n",
        "plt.show()\n",
        "\n"
      ]
    },
    {
      "cell_type": "markdown",
      "id": "5d0a651f",
      "metadata": {
        "tags": [
          "learner",
          "md",
          "lect_04"
        ],
        "id": "5d0a651f"
      },
      "source": [
        "Now, define the velocity function as:\n",
        "\n",
        "$$\n",
        "\\dot{\\theta} \\equiv \\theta_{v}(\\theta,t) \\\\\n",
        "\\theta_{v}(\\theta,t) \\approx \\dot{\\theta} - \\frac{g}{l} \\Delta t \\theta\n",
        "$$\n",
        "From this, we can go ahead and start to extrapolate, but we will do this in a more effective way. For now, we will not expand $\\theta_{v}$ like we did in the second equation above, but when we implement it we will.\n",
        "\n",
        "Now, the Runge-Kutta approximation aims to use 4 points to extrapolate to the next point. The way we do this is to expand the expansion of $\\theta$, which we can write as\n",
        "$$\n",
        "\\theta_{n+1} = \\theta_{n} + \\Delta t \\theta_{v}\n",
        "$$\n",
        "and expanding this, we can consider moving $t\\rightarrow t+\\Delta t$, and we can take a bunch of half steps to approximate $\\theta$. We do this by defining\n",
        "$$\n",
        "\\dot{\\theta}_{n}             = \\theta_{v}\\left(\\theta_{n},t_{n}\\right) \\\\\n",
        "\\dot{\\theta}_{n+\\frac{1}{2}} = \\theta_{v}\\left(\\theta_{n}+\\frac{1}{2}\\Delta t \\dot{\\theta}_{n},t_{n}+\\frac{1}{2}\\Delta t\\right) \\\\\n",
        "\\dot{\\theta}_{n+\\frac{1}{2}+\\Delta} = \\theta_{v}\\left(\\theta_{n}+\\frac{1}{2}\\Delta t \\dot{\\theta}_{n+\\frac{1}{2}},t+\\frac{1}{2}\\Delta t\\right) \\\\\n",
        "\\dot{\\theta}_{n+1} = \\theta_{v}\\left(\\theta_{n}+\\Delta t \\dot{\\theta}_{n},t+\\Delta t\\right) \\\\\n",
        "$$\n",
        "\n",
        "This leads us to the Runge-Kutta approximation:\n",
        "$$\n",
        "\\theta_{n+1} = \\theta_{n} + \\frac{\\Delta t}{6} \\left(\\dot{\\theta}_{n+\\frac{1}{2}} + 2 \\dot{\\theta}_{n+\\frac{1}{2}+\\Delta} + 2 \\dot{\\theta}_{n+\\frac{1}{2}+\\Delta_{2}} + \\dot{\\theta}_{n+1} \\right)\n",
        "$$\n",
        "We will not derive this here, mostly because you can google your own derivation and find lots of details. However, we should note that for a high quality numerical approximation, this is the way to go. This effectively approximates functions out to the 5$^{\\mathrm{th}}$ order.\n",
        "\n",
        "Now, for the pendulum, we also have to step $\\dot{\\theta}$ using the same procedure:\n",
        "$$\n",
        "\\dot{\\theta}_{n+1} = \\dot{\\theta}_{n} + \\frac{\\Delta t}{6} \\left(\\ddot{\\theta}_{n+\\frac{1}{2}} + 2 \\ddot{\\theta}_{n+\\frac{1}{2}+\\Delta} + 2 \\ddot{\\theta}_{n+\\frac{1}{2}+\\Delta_{2}} + \\ddot{\\theta}_{n+1} \\right)\n",
        "$$\n",
        "\n",
        "You can see that this is a just a scheme of successive approximations that allows us to step things forward. To do this for the pendulum, we have to step both quantities at the same time. This is like the leap-frog, but seriously intertwined. Let's take a look at how good it is."
      ]
    },
    {
      "cell_type": "code",
      "execution_count": null,
      "id": "c91cbb6a",
      "metadata": {
        "tags": [
          "learner",
          "py",
          "learner_chopped",
          "lect_04"
        ],
        "id": "c91cbb6a"
      },
      "outputs": [],
      "source": [
        "#>>>RUN: L17.4-runcell02\n",
        "\n",
        "\n",
        "def rkstep(theta,dt,g,l):\n",
        "    thetan     = theta[0]\n",
        "    thetavn    = theta[1]\n",
        "    thetaan    = thetaa(thetan,g,l)\n",
        "    #half step\n",
        "    thetavn05  = thetav(thetavn  +0.5*dt*thetaan)\n",
        "    thetaan05  = thetaa(thetan   +0.5*dt*thetavn,g,l)\n",
        "    #half step based on previous half\n",
        "    thetavn05d = thetav(thetavn  +0.5*dt*thetaan05)\n",
        "    thetaan05d = thetaa(thetan   +0.5*dt*thetavn05,g,l)\n",
        "    #full step based on previous half\n",
        "    thetavn10  = thetav(thetavn  +1.0*dt*thetaan05d)\n",
        "    thetaan10  = thetaa(thetan   +1.0*dt*thetavn05d,g,l)\n",
        "    #runge-Kutta did the math for us\n",
        "    theta[0] += (1./6.)*dt*(thetavn + 2*thetavn05  + 2*thetavn05d + thetavn10)\n",
        "    theta[1] += (1./6.)*dt*(thetaan + 2*thetaan05  + 2*thetaan05d + thetaan10)\n",
        "\n",
        "timepos,thetapos=loop(nsteps=10000,dt=0.01)\n",
        "\n",
        "plt.plot(timepos,thetapos[:,0],label=\"position\")\n",
        "plt.plot(timepos,thetapos[:,1],label=\"velocity\")\n",
        "plt.legend()\n",
        "plt.xlabel(\"time(s)\")\n",
        "plt.ylabel(\"position or velocity\")\n",
        "plt.show()\n",
        "\n",
        "epos = energy(thetapos)\n",
        "\n",
        "plt.plot(timepos[1:-1],epos[1:-1],label=\"energy\")\n",
        "plt.legend()\n",
        "plt.xlabel(\"time(s)\")\n",
        "plt.ylabel(\"energy\")\n",
        "plt.show()\n",
        "\n",
        "print(\"E-start:\",epos[1],\"E-end\",epos[-1])"
      ]
    },
    {
      "cell_type": "markdown",
      "id": "5a0df870",
      "metadata": {
        "tags": [
          "learner",
          "md",
          "lect_04"
        ],
        "id": "5a0df870"
      },
      "source": [
        "The range of the $y$ axis variation here is tiny! We can look at the initial and final values of the energy. What we find is that energy is conservation at the $10^{-10}$ level. That's much better than everything we have seen previously."
      ]
    },
    {
      "cell_type": "markdown",
      "id": "cf895128",
      "metadata": {
        "tags": [
          "learner",
          "md",
          "learner_chopped"
        ],
        "id": "cf895128"
      },
      "source": [
        "<a name='exercises_17_4'></a>     \n",
        "\n",
        "| [Top](#section_17_0) | [Restart Section](#section_17_4) | [Next Section](#section_17_5) |\n"
      ]
    },
    {
      "cell_type": "markdown",
      "id": "71a25226",
      "metadata": {
        "tags": [
          "learner",
          "md",
          "learner_chopped"
        ],
        "id": "71a25226"
      },
      "source": [
        "### <span style=\"border:3px; border-style:solid; padding: 0.15em; border-color: #90409C; color: #90409C;\">Exercise 17.4.1</span>\n",
        "\n",
        "Let's now look at the pendulum in the non-linear regime, namely larger angles where the approximation $\\sin(\\theta)\\approx\\theta$ no longer holds. Compare the Runge-Kutta method to the leap-frog method for an initial angle $\\theta_0=0.9$ radians. How does the conservation of energy for each method compare, using a fixed time-step of `dt=0.01`?\n",
        "\n",
        "To answer this question, complete the code below to create your desired plots (the functions `rkloop` and `lfloop` are already defined for you, corresponding to the Runge-Kutta and leap-frog methods, respectively).\n",
        "\n",
        "Select ALL that apply:\n",
        "\n",
        "\n",
        "A) Both the RK and LF methods show comparable changes in energy over time.\\\n",
        "B) The RK method shows larger variations in energy over time than the LF method.\\\n",
        "C) The RK method shows smaller variations in energy over time than the LF method.\\\n",
        "D) The average energy using the RK method appears to decrease over time, whereas that for the LF method does not.\\\n",
        "E) The average energy using the LF method appears to decrease over time, whereas that for the RK method does not.\n",
        "\n"
      ]
    },
    {
      "cell_type": "code",
      "execution_count": null,
      "id": "5b034b9e",
      "metadata": {
        "tags": [
          "py",
          "draft",
          "learner_chopped"
        ],
        "id": "5b034b9e"
      },
      "outputs": [],
      "source": [
        "#>>>EXERCISE: L17.4.1\n",
        "\n",
        "thetainit=0.9 #units of radians\n",
        "def rkloop(total_time=10,dt=0.01,g=9.8,l=1):\n",
        "    nsteps = int(total_time/dt)\n",
        "    timepos  = np.zeros(1)\n",
        "    thetapos = np.zeros((1,2));\n",
        "    time     = 0\n",
        "    theta    = np.zeros(2)\n",
        "    theta[0] = thetainit #initial conditions\n",
        "    theta[1] = 0.0\n",
        "    theta[1] += dt*0.5*(thetaa(theta[0],g,l))\n",
        "    timepos,thetapos=store(theta,thetapos,time,timepos)\n",
        "    for timestep in range(nsteps):\n",
        "        rkstep(theta,dt,g,l)\n",
        "        time += dt\n",
        "        timepos,thetapos=store(theta,thetapos,time,timepos)\n",
        "    return timepos,thetapos\n",
        "\n",
        "def lfloop(total_time=10,dt=0.01,g=9.8,l=1):\n",
        "    nsteps = int(total_time/dt)\n",
        "    timepos  = np.zeros(1)\n",
        "    thetapos = np.zeros((1,2));\n",
        "    time     = 0\n",
        "    theta    = np.zeros(2)\n",
        "    theta[0] = thetainit #initial conditions\n",
        "    theta[1] = 0.0\n",
        "    theta[1] += dt*0.5*(thetaa(theta[0],g,l))\n",
        "    timepos,thetapos=store(theta,thetapos,time,timepos)\n",
        "    for timestep in range(nsteps):\n",
        "        lfstep(theta,dt,g,l)\n",
        "        time += dt\n",
        "        timepos,thetapos=store(theta,thetapos,time,timepos)\n",
        "    return timepos,thetapos\n",
        "\n",
        "\n",
        "\n",
        "#PLOT COMPARISONS HERE\n"
      ]
    },
    {
      "cell_type": "markdown",
      "id": "b1cb3ef9",
      "metadata": {
        "tags": [
          "learner",
          "md",
          "learner_chopped"
        ],
        "id": "b1cb3ef9"
      },
      "source": [
        "### <span style=\"border:3px; border-style:solid; padding: 0.15em; border-color: #90409C; color: #90409C;\">Exercise 17.4.2</span>\n",
        "\n",
        "Now change the timestep to `dt=0.2` in the code that you wrote for the previous problem. How do the results compare? Select ALL that apply:\n",
        "\n",
        "\n",
        "A) Both the RK and LF methods show comparable changes in energy over time.\\\n",
        "B) The RK method shows larger variations in energy over time than the LF method.\\\n",
        "C) The RK method shows smaller variations in energy over time than the LF method.\\\n",
        "D) The average energy using the RK method appears to decrease over time, whereas that for the LK method does not.\\\n",
        "E) The average energy using the LF method appears to decrease over time, whereas that for the RK method does not.\n"
      ]
    },
    {
      "cell_type": "markdown",
      "id": "afb60ec1",
      "metadata": {
        "tags": [
          "learner",
          "md",
          "learner_chopped"
        ],
        "id": "afb60ec1"
      },
      "source": [
        "### <span style=\"border:3px; border-style:solid; padding: 0.15em; border-color: #90409C; color: #90409C;\">Exercise 17.4.3</span>\n",
        "\n",
        "How do the Runge-Kutta Algorithm and Leap-Frog Verlet procedures differ? Select ALL that apply:\n",
        "\n",
        "A) Runge-Kutta methods generally achieve a higher order of accuracy compared to the Leap-Frog Verlet procedure.\n",
        "\n",
        "B) The Leap-Frog Verlet procedure is a symplectic integrator, which conserves energy, while Runge-Kutta methods are not inherently symplectic.\n",
        "\n",
        "C) The Leap-Frog Verlet procedure updates position and velocity at different points in time, leading to a staggered structure, whereas Runge-Kutta methods use weighted averages of multiple function evaluations at each time step."
      ]
    },
    {
      "cell_type": "markdown",
      "id": "3de52681",
      "metadata": {
        "tags": [
          "learner",
          "md",
          "learner_chopped"
        ],
        "id": "3de52681"
      },
      "source": [
        "<a name='section_17_5'></a>\n",
        "<hr style=\"height: 1px;\">\n",
        "\n",
        "## <h2 style=\"border:1px; border-style:solid; padding: 0.25em; color: #FFFFFF; background-color: #90409C\">L17.5 Modern High Quality Integrators</h2>  \n",
        "\n",
        "| [Top](#section_17_0) | [Previous Section](#section_17_4) | [Exercises](#exercises_17_5) | [Next Section](#section_17_6) |\n"
      ]
    },
    {
      "cell_type": "markdown",
      "id": "3ec606ba",
      "metadata": {
        "tags": [
          "learner",
          "md"
        ],
        "id": "3ec606ba"
      },
      "source": [
        "*The material in this section is discussed in the video **<a href=\"https://courses.mitxonline.mit.edu/learn/course/course-v1:MITxT+8.S50.3x+3T2023/block-v1:MITxT+8.S50.3x+3T2023+type@sequential+block@seq_LS17/block-v1:MITxT+8.S50.3x+3T2023+type@vertical+block@vert_LS17_vid5\" target=\"_blank\">HERE</a>.** You are encouraged to watch that video and use this notebook concurrently.*"
      ]
    },
    {
      "cell_type": "markdown",
      "id": "0ddd696e",
      "metadata": {
        "tags": [
          "learner",
          "md",
          "lect_05"
        ],
        "id": "0ddd696e"
      },
      "source": [
        "<h3>Overview</h3>\n",
        "\n",
        "Now we have seen the core integration methods, let's take a look at the 1d-integration tools that python just gives us for free. Note that the best integrators were written decades ago, so they are not really that modern. However, these integrators are super powerful and really fast. We can really do a lot with them, and we could definitely use them more.\n",
        "\n",
        "The way these integrators work is by defining our system of equations in terms of a chain of derivatives. Let's first define a vector that represents the variable $\\theta$ and it's derivatives:\n",
        "\n",
        "$$\n",
        "\\vec{\\theta} = (\\theta,\\dot{\\theta},\\ddot{\\theta},...) \\\\\n",
        "$$\n",
        "\n",
        "\n",
        "The integrator will then step through this chain to solve the following equation:\n",
        "\n",
        "$$\n",
        "\\dot{\\vec{\\theta}} = \\frac{\\vec{df}}{dt}\\left(\\vec{\\theta},t,...\\right)\\\\\n",
        "$$\n",
        "\n",
        "where\n",
        "\n",
        "$$\n",
        "\\dot{\\vec{\\theta}} = (\\dot{\\theta},\\ddot{\\theta},...) \\\\\n",
        "$$\n",
        "\n",
        "\n",
        "Thus, the function $\\frac{\\vec{df}}{dt}$ takes a vector $\\vec{\\theta}$ and relevant variables as input, and outputs the vector $\\dot{\\vec{\\theta}}$. Recall, in our simple pendulum example, the equation of motion we are working with is:\n",
        "\n",
        "$$\n",
        "m \\ell \\ddot{\\theta} = -m g\\sin \\theta\n",
        "$$\n",
        "\n",
        "So, we need to construct a function $\\frac{\\vec{df}}{dt}$ that takes $\\vec{\\theta} = (\\theta,\\dot{\\theta})$, $g$, and $\\ell$ as inputs, and returns $\\dot{\\vec{\\theta}} = (\\dot{\\theta}, -\\frac{g}{\\ell}\\sin \\theta)$.\n",
        "\n",
        "\n",
        "<h3>Python Implementation</h3>\n",
        "\n",
        "Let's go ahead and define this guy in code using the `solve_ivp` function from the `scipy` library (details on the input parameters can be found <a href=\"https://docs.scipy.org/doc/scipy/reference/generated/scipy.integrate.solve_ivp.html\" target=\"_blank\"> here</a>). The default integrator for `solve_ivp` is 'RK45', an explicit Runge-Kutta method of order 5(4). The error is controlled assuming accuracy of the fourth-order method, but steps are taken using the fifth-order accurate formula (local extrapolation is done). You may want to try some of the other integrator options by placing the name as a string right after the `[thetainit, 0.]` input."
      ]
    },
    {
      "cell_type": "code",
      "execution_count": null,
      "id": "3b0e0817",
      "metadata": {
        "tags": [
          "learner",
          "py",
          "learner_chopped",
          "lect_05"
        ],
        "id": "3b0e0817"
      },
      "outputs": [],
      "source": [
        "#>>>RUN: L17.5-runcell01\n",
        "\n",
        "def df(t, thetavec, g, l):\n",
        "    theta, thetadot = thetavec\n",
        "    return [thetadot, -(g/l) * np.sin(theta)]\n",
        "\n",
        "g=9.8\n",
        "l=1\n",
        "thetainit=2.0\n",
        "solution = solve_ivp(df, [0., 10000*0.01], [thetainit, 0.], max_step = 0.01, args=(g,l))\n",
        "\n",
        "\n",
        "plt.plot(solution.t, solution.y[0],label=\"int-position\")\n",
        "plt.plot(solution.t, solution.y[1],label=\"int-velocity\")\n",
        "plt.xlabel(\"time(s)\")\n",
        "plt.ylabel(\"position or velocity\")\n",
        "plt.legend()\n",
        "plt.show()\n",
        "\n",
        "#redefining energy\n",
        "def energy(theta,g=9.8,l=1):\n",
        "    kin=0.5*l*l*theta[:,1]**2\n",
        "    pot=-g*l*np.cos(theta[:,0])\n",
        "    return kin+pot\n",
        "\n",
        "energypos=energy(solution.y.T)\n",
        "#e = 0.5 * m * solution.y[1]**2 + 0.5 * k * solution.y[0]**2\n",
        "plt.plot(solution.t, energypos)\n",
        "plt.xlabel(\"time(s)\")\n",
        "plt.ylabel(\"energy\")\n",
        "plt.show()\n",
        "\n",
        "print(\"E-start:\",energypos[1],\"E-end:\",energypos[-1])\n"
      ]
    },
    {
      "cell_type": "markdown",
      "id": "c2e6ea81",
      "metadata": {
        "tags": [
          "learner",
          "md",
          "lect_05"
        ],
        "id": "c2e6ea81"
      },
      "source": [
        "These integrals are known as **Elliptic Functions**, and this is the actual solution to the pendulum. This deviates from the normal harmonic oscillator solution when not acting in the small angle limit.\n",
        "\n",
        "Now that we are using a much more sophisticated integrator, let's try to make our differential equation progressively more complicated. Specifically, let's modify our differential equation to have a driven and damped pendulum.\n",
        "\n",
        "$$\n",
        "m\\ell\\ddot{\\theta} = -m g\\sin\\theta - \\mu\\dot{\\theta} + F \\cos \\Omega t \\\\\n",
        "\\ddot{\\theta} =  -\\frac{g}{\\ell}\\sin\\theta - \\frac{\\mu}{m\\ell}\\dot{\\theta} + \\frac{F}{m\\ell} \\cos \\Omega t \\\\\n",
        "\\ddot{\\theta} = - \\frac{g}{\\ell}\\sin\\theta - \\mu^{\\prime}\\dot{\\theta} + f^{\\prime} \\cos \\Omega t \\\\\n",
        "$$\n",
        "\n",
        "The acceleration now contains two new terms in addition to the force of gravity. First, there is a so-called \"damping\" term ($-\\mu \\dot{\\theta}$), where we assume that there is a force proportional to the velocity and pointing directly opposite the direction of the velocity. We have also added a \"driver\" term ($F \\cos \\Omega t$), a force that oscillates with some chosen frequency $\\Omega$.\n",
        "\n",
        "Let's go ahead and run this. Note, the system does not conserve energy!\n",
        "\n"
      ]
    },
    {
      "cell_type": "code",
      "execution_count": null,
      "id": "33908c0d",
      "metadata": {
        "tags": [
          "learner",
          "py",
          "learner_chopped",
          "lect_05"
        ],
        "id": "33908c0d"
      },
      "outputs": [],
      "source": [
        "#>>>RUN: L17.5-runcell02\n",
        "\n",
        "def df(t, thetavec, g, l, mup, fp, omega):\n",
        "    theta, thetadot = thetavec\n",
        "    return [thetadot, -(g/l) * np.sin(theta) - mup*thetadot + fp*np.cos(omega*t) ]\n",
        "\n",
        "g=9.8\n",
        "l=1\n",
        "thetainit=2.0\n",
        "mup=0.1\n",
        "fp=0.1\n",
        "# The following line sets the driving frequency as a fraction of the natural\n",
        "# frequency of the system (g/l).\n",
        "omega=np.sqrt(0.85*g/l)\n",
        "solution = solve_ivp(df, [0., 10000*0.01], [thetainit, 0.], max_step = 0.01, args=(g,l,mup,fp,omega))\n",
        "\n",
        "plt.plot(solution.t, solution.y[0],label=\"int-position\")\n",
        "plt.plot(solution.t, solution.y[1],label=\"int-velocity\")\n",
        "plt.xlabel(\"time(s)\")\n",
        "plt.ylabel(\"position or velocity\")\n",
        "plt.legend()\n",
        "plt.show()\n",
        "\n",
        "energypos=energy(solution.y.T)\n",
        "#e = 0.5 * m * solution.y[1]**2 + 0.5 * k * solution.y[0]**2\n",
        "plt.plot(solution.t, energypos)\n",
        "plt.xlabel(\"time(s)\")\n",
        "plt.ylabel(\"energy\")\n",
        "plt.show()\n",
        "\n",
        "print(\"E-start:\",energypos[1],\"E-end:\",energypos[-1])\n"
      ]
    },
    {
      "cell_type": "markdown",
      "id": "a372a5e9",
      "metadata": {
        "tags": [
          "learner",
          "md",
          "lect_05"
        ],
        "id": "a372a5e9"
      },
      "source": [
        "This motion shows all sorts of strange behavior.  Try varying the strength of the damping (the mu parameter) or the ratio of the driving and natural frequencies (0.85 in this case) to see how the motion changes. Note that the addition of the damping term means that energy is not conserved."
      ]
    },
    {
      "cell_type": "markdown",
      "id": "7682a907",
      "metadata": {
        "tags": [
          "learner",
          "md",
          "lect_05"
        ],
        "id": "7682a907"
      },
      "source": [
        "Now, we can also plot a phase diagram defined as the velocity versus the position, plotting the velocity on the $y$ axis and the position on the $x$ axis. In this example, three different ratios of the driving and natural frequencies are shown."
      ]
    },
    {
      "cell_type": "code",
      "execution_count": null,
      "id": "be98d6a4",
      "metadata": {
        "tags": [
          "learner",
          "py",
          "learner_chopped",
          "lect_05"
        ],
        "id": "be98d6a4"
      },
      "outputs": [],
      "source": [
        "#>>>RUN: L17.5-runcell03\n",
        "\n",
        "\n",
        "thetainit=2.0\n",
        "mu=0.1\n",
        "fp=0.1\n",
        "l=1\n",
        "\n",
        "omega=np.sqrt(0.99*g/l)\n",
        "solution1 = solve_ivp(df, [0., 10000*0.01], [thetainit, 0.], max_step = 0.01, args=(g,l,mu,fp,omega))\n",
        "\n",
        "omega=np.sqrt(1.02*g/l)\n",
        "solution2 = solve_ivp(df, [0., 10000*0.01], [thetainit, 0.], max_step = 0.01, args=(g,l,mu,fp,omega))\n",
        "\n",
        "plt.plot(solution.y[0], solution.y[1],label=\"0.85\")\n",
        "plt.plot(solution1.y[0], solution1.y[1],label=\"0.99\")\n",
        "plt.plot(solution2.y[0], solution2.y[1],label=\"1.02\")\n",
        "plt.xlabel(\"position\")\n",
        "plt.ylabel(\"velocity\")\n",
        "plt.legend()\n",
        "plt.show()\n"
      ]
    },
    {
      "cell_type": "markdown",
      "id": "f586efbb",
      "metadata": {
        "tags": [
          "learner",
          "md",
          "lect_05"
        ],
        "id": "f586efbb"
      },
      "source": [
        "The above plot is know as a phase-space diagram. Features within this plot may indicate regions of stability or chaotic dynamics. Note, we will not discuss chaos in this lecture, but our purpose is to show that **you can quickly look at various properties of solutions for this differential equation because the solution is so fast.**\n",
        "\n",
        "For example, run the plot below to scan the ratio of the driving and natural frequencies over a broader range than shown above."
      ]
    },
    {
      "cell_type": "code",
      "execution_count": null,
      "id": "cec61b0a",
      "metadata": {
        "tags": [
          "learner",
          "py",
          "learner_chopped",
          "lect_05"
        ],
        "id": "cec61b0a"
      },
      "outputs": [],
      "source": [
        "#>>>RUN: L17.5-runcell04\n",
        "\n",
        "for scale in np.arange(0.8,1.20,0.01):\n",
        "    omega=np.sqrt(scale*g/l)\n",
        "    solution = solve_ivp(df, [0., 10000*0.01], [thetainit, 0.], max_step = 0.1, args=(g,l,mu,fp,omega))\n",
        "    plt.plot(solution.y[0], solution.y[1],linewidth=0.1)\n",
        "\n",
        "\n",
        "plt.xlabel(\"position\")\n",
        "plt.ylabel(\"velocity\")\n",
        "plt.show()"
      ]
    },
    {
      "cell_type": "markdown",
      "id": "cb5e8127",
      "metadata": {
        "tags": [
          "learner",
          "md",
          "learner_chopped"
        ],
        "id": "cb5e8127"
      },
      "source": [
        "<a name='exercises_17_5'></a>     \n",
        "\n",
        "| [Top](#section_17_0) | [Restart Section](#section_17_5) | [Next Section](#section_17_6) |\n"
      ]
    },
    {
      "cell_type": "markdown",
      "id": "49627adc",
      "metadata": {
        "tags": [
          "learner",
          "md",
          "learner_chopped"
        ],
        "id": "49627adc"
      },
      "source": [
        "### <span style=\"border:3px; border-style:solid; padding: 0.15em; border-color: #90409C; color: #90409C;\">Exercise 17.5.1</span>\n",
        "\n",
        "In the limit of small oscillations, there is analytic solution for a damped-driven harmonic oscillator, and it has two terms, corresponding to steady-state and transient solutions, respectively. The point of this problem will be to see how well this exact solution compares to the numerical solution in the limit of small initial angle and small driving force.\n",
        "\n",
        "$$\n",
        "\\theta_{\\mathrm{total}} = \\theta_{\\mathrm{transient}} + \\theta_{\\mathrm{steady-state}}\n",
        "$$\n",
        "\n",
        "Firstly, the <b>steady-state solution</b> is largely governed by the driving frequency $\\Omega$, and it is given by:\n",
        "\n",
        "$$\n",
        "\\theta_{\\mathrm{steady-state}} = A \\cos(\\Omega t - \\phi)\n",
        "$$\n",
        "\n",
        "where the amplitude and phase are defined as:\n",
        "\n",
        "$$\n",
        "A = \\frac{f'}{\\sqrt{(\\omega_0^2 - \\Omega^2)^2 + (\\mu' \\Omega)^2}}\n",
        "$$\n",
        "\n",
        "$$\n",
        "\\phi = \\arctan\\left(\\frac{\\mu' \\Omega}{\\omega_0^2 - \\Omega^2}\\right)\n",
        "$$\n",
        "\n",
        "with the natural frequency $\\omega_0 = \\sqrt{\\frac{g}{\\ell}}$.\n",
        "\n",
        "\n",
        "Next, the <b>transient solution</b> decays as a function of the damping, as follows (for the underdamped regime):\n",
        "\n",
        "$$\n",
        "\\theta_{\\mathrm{transient}} = e^{-\\frac{\\mu'}{2}t}\\left(C\\cos(\\omega_t t) + D\\cos(\\omega_t t)\\right)\n",
        "$$\n",
        "\n",
        "where the frequency of transient oscillations is:\n",
        "\n",
        "$$\n",
        "\\omega_t = \\sqrt{\\omega_0^2 - \\left(\\frac{\\mu'}{2}\\right)^2}\n",
        "$$\n",
        "\n",
        "\n",
        "and $C$ and $D$ are determined by initial conditions. For the generalized case of initial angular position $\\theta(t=0)=\\theta_0$ and initial angular velocity $\\dot{\\theta}(t=0)=\\dot{\\theta}_0$:\n",
        "\n",
        "$$\n",
        "C = \\theta_0 - A\\cos(\\Omega t)\n",
        "$$\n",
        "\n",
        "$$\n",
        "D = \\frac{1}{\\omega_t}\\left(\\dot{\\theta}_0 + \\frac{\\mu'}{2}C - \\Omega A\\sin(\\Omega t) \\right)\n",
        "$$\n",
        "\n",
        "\n",
        "Plot this analytic solution alongside the numerical solution (to make it simpler for viewing, you could look at the last `1000` pts of the simulation). What is the fractional difference in amplitude between the two solutions, relative to the theoretical amplitude $A$, evaluated at the very last time step (i.e., the last element of the array)? In other words, compute the following and report your answer with precision `1e-4`:\n",
        "\n",
        "$$\n",
        "\\mathrm{frac\\_diff} = \\left|\\dfrac{\\theta_{numerical} - \\theta_{analytic}}{A}\\right|\n",
        "$$\n"
      ]
    },
    {
      "cell_type": "code",
      "execution_count": null,
      "id": "31685fd5",
      "metadata": {
        "tags": [
          "py",
          "learner_chopped",
          "draft"
        ],
        "id": "31685fd5"
      },
      "outputs": [],
      "source": [
        "#>>>EXERCISE: L17.5.1\n",
        "\n",
        "def df(t, thetavec, g, l, mup, fp, omega):\n",
        "    theta, thetadot = thetavec\n",
        "    return [thetadot, -(g/l) * np.sin(theta) - mup*thetadot + fp*np.cos(omega*t)]\n",
        "\n",
        "# Constants\n",
        "g = 9.8\n",
        "l = 1.\n",
        "thetainit = 0.1\n",
        "thetadotinit = 0.\n",
        "mup = 0.1\n",
        "fp = 0.01\n",
        "omega = np.sqrt(0.85 * g / l)\n",
        "\n",
        "# Solve the differential equation numerically\n",
        "solution = solve_ivp(df, [0., 10000*0.01], [thetainit, thetadotinit], max_step=0.01, args=(g, l, mup, fp, omega))\n",
        "\n",
        "# Analytic solution\n",
        "#YOUR CODE HERE\n",
        "\n",
        "# Plot the numerical and analytic solutions\n",
        "#YOUR CODE HERE\n",
        "\n",
        "# Print the fractional difference\n",
        "#YOUR CODE HERE"
      ]
    },
    {
      "cell_type": "markdown",
      "id": "2c7c989f",
      "metadata": {
        "tags": [
          "learner",
          "md",
          "learner_chopped"
        ],
        "id": "2c7c989f"
      },
      "source": [
        "### <span style=\"border:3px; border-style:solid; padding: 0.15em; border-color: #90409C; color: #90409C;\">Exercise 17.5.2</span>\n",
        "\n",
        "The analytic solution described above is only valid in the limit of small oscillations. Test the accuracy of the analytic solution by varying the magnitude of the driving force $f'$. Approximately what is the minimal value of $f'$ that leads to a $1\\%$ difference in the angular amplitudes of the two solutions, relative to the theoretical amplitude $A$, evaluated at the very last time step (keeping all other parameters fixed). Report your answer with precision `1e-2`.\n",
        "\n",
        "Hint: You can view the solution to the previous problem if you need help formulating an answer."
      ]
    },
    {
      "cell_type": "markdown",
      "id": "2b224447",
      "metadata": {
        "tags": [
          "learner",
          "md",
          "learner_chopped"
        ],
        "id": "2b224447"
      },
      "source": [
        "<a name='section_17_6'></a>\n",
        "<hr style=\"height: 1px;\">\n",
        "\n",
        "## <h2 style=\"border:1px; border-style:solid; padding: 0.25em; color: #FFFFFF; background-color: #90409C\">L17.6 Fitting the Full Thing</h2>  \n",
        "\n",
        "| [Top](#section_17_0) | [Previous Section](#section_17_5) | [Exercises](#exercises_17_6) |"
      ]
    },
    {
      "cell_type": "markdown",
      "id": "c22fd926",
      "metadata": {
        "tags": [
          "learner",
          "md"
        ],
        "id": "c22fd926"
      },
      "source": [
        "*The material in this section is discussed in the video **<a href=\"https://courses.mitxonline.mit.edu/learn/course/course-v1:MITxT+8.S50.3x+3T2023/block-v1:MITxT+8.S50.3x+3T2023+type@sequential+block@seq_LS17/block-v1:MITxT+8.S50.3x+3T2023+type@vertical+block@vert_LS17_vid6\" target=\"_blank\">HERE</a>.** You are encouraged to watch that video and use this notebook concurrently.*"
      ]
    },
    {
      "cell_type": "markdown",
      "id": "5f11b88a",
      "metadata": {
        "tags": [
          "learner",
          "md",
          "lect_06"
        ],
        "id": "5f11b88a"
      },
      "source": [
        "<h3>Overview</h3>\n",
        "\n",
        "Now that we have gone through the full numerical simulation of the pendulum, we wanted to go ahead and analyze some data to see how everything is behaving. To do this we will rely on some detailed pendulum data taken with a high speed video camera and some tracking software.\n",
        "\n",
        "This data was kindly obtained from MIT undergraduates Kiran Mak, and Jade Chongsathapornpong. Data were taken for two pendulums, one of length $4.151\\pm0.007$m, and another of length $10.7886\\pm0.003$m. The data was digitized using a tracking system which finds the center of the pendulum bob for each frame in the video using a Hough Transform. This position is then used to find the angle in radians (we also refer to this angle as the \"angular amplitude\" of the pendulum).\n",
        "\n",
        "Let's first take a look at the data."
      ]
    },
    {
      "cell_type": "code",
      "execution_count": null,
      "id": "d40b58d6",
      "metadata": {
        "tags": [
          "learner",
          "py",
          "learner_chopped",
          "lect_06"
        ],
        "id": "d40b58d6"
      },
      "outputs": [],
      "source": [
        "#>>>RUN: L17.6-runcell01\n",
        "\n",
        "#Jade & Kiran\n",
        "def load(iFile='data/L17/jade-pendulum.csv'):\n",
        "    times=np.array([])\n",
        "    amps =np.array([])\n",
        "    with open(iFile, newline='') as csvfile:\n",
        "        line = csv.reader(csvfile, delimiter=' ', quotechar='|')\n",
        "        for row in line:\n",
        "            pT=float(row[0])\n",
        "            pA=float(row[1])\n",
        "            times=np.append(pT,times)\n",
        "            amps =np.append(pA,amps)\n",
        "    #Transform\n",
        "    amps  = (amps-amps.mean())/(2.*np.max(amps))\n",
        "    return times,amps\n",
        "\n",
        "tk,ak=load('data/L17/Kiran.csv')\n",
        "tj,aj=load()\n",
        "\n",
        "\n",
        "plt.plot(tj,aj,'.',label='Jade')\n",
        "plt.plot(tk,ak,'.',label='Kiran')\n",
        "plt.xlabel('time(s)')\n",
        "plt.ylabel(\"Angular Amplitude\")\n",
        "plt.legend()\n",
        "plt.show()\n",
        "\n",
        "plt.plot(tj[0:1000],aj[0:1000],'.',label='Jade')\n",
        "plt.plot(tk[0:1000],ak[0:1000],'.',label='Kiran')\n",
        "plt.xlabel('time(s)')\n",
        "plt.ylabel(\"Angular Amplitude\")\n",
        "plt.legend()\n",
        "plt.show()"
      ]
    },
    {
      "cell_type": "markdown",
      "id": "381efa78",
      "metadata": {
        "tags": [
          "learner",
          "md",
          "lect_06"
        ],
        "id": "381efa78"
      },
      "source": [
        "Now, before we really get into the nitty gritty of modeling this data, let's go ahead and take a look at the resolution of the data in order to understand the fluctuations and, therefore, the accuracy of the fit that we can get from this. To do that, let's zoom into a few short regions of the data. For a sufficiently small period of time, the angle should be very close to a linear function of time."
      ]
    },
    {
      "cell_type": "code",
      "execution_count": null,
      "id": "d920b29c",
      "metadata": {
        "tags": [
          "learner",
          "py",
          "learner_chopped",
          "lect_06"
        ],
        "id": "d920b29c"
      },
      "outputs": [],
      "source": [
        "#>>>RUN: L17.6-runcell02\n",
        "\n",
        "plt.plot(tj[0:10],aj[0:10],'.',label='Jade')\n",
        "plt.xlabel('time(s)')\n",
        "plt.ylabel(\"Angular Amplitude\")\n",
        "plt.show()\n",
        "\n",
        "plt.plot(tj[5300:5310],aj[5300:5310],'.',label='Jade')\n",
        "plt.xlabel('time(s)')\n",
        "plt.ylabel(\"Angular Amplitude\")\n",
        "plt.show()\n",
        "\n",
        "plt.plot(tk[0:10],ak[0:10],'.',label='Kiran')\n",
        "plt.xlabel('time(s)')\n",
        "plt.ylabel(\"Angular Amplitude\")\n",
        "plt.show()\n",
        "\n"
      ]
    },
    {
      "cell_type": "markdown",
      "id": "3237b940",
      "metadata": {
        "tags": [
          "learner",
          "md",
          "lect_06"
        ],
        "id": "3237b940"
      },
      "source": [
        "Now, from the variation of the points, we can estimate an uncertainty of roughly $\\sigma=2\\times10^{-4}$ in angle. We can be a bit more formal about this and fit a line and look at the $\\chi^{2}$."
      ]
    },
    {
      "cell_type": "code",
      "execution_count": null,
      "id": "aee9a094",
      "metadata": {
        "tags": [
          "learner",
          "py",
          "learner_chopped",
          "lect_06"
        ],
        "id": "aee9a094"
      },
      "outputs": [],
      "source": [
        "#>>>RUN: L17.6-runcell03\n",
        "\n",
        "from lmfit import Model, Parameter, report_fit, fit_report\n",
        "from lmfit.models import LinearModel\n",
        "\n",
        "model = LinearModel()\n",
        "pars = model.make_params(intercept=0, slope=0)\n",
        "result=model.fit(x=tk[0:10],data=ak[0:10],pars=pars,weights=1./(np.ones(10)*2e-4))\n",
        "print(result.fit_report())\n",
        "result.plot_fit()"
      ]
    },
    {
      "cell_type": "markdown",
      "id": "b46e5ee3",
      "metadata": {
        "tags": [
          "learner",
          "md",
          "lect_06"
        ],
        "id": "b46e5ee3"
      },
      "source": [
        "Ok, that looks good. Using an uncertainty of $\\sigma=2\\times10^{-4}$ gives a reduced $\\chi^2$ very close to 1. We should keep in mind that there might be jumps in the data that will make it hard to fit.\n",
        "\n",
        "Now, what we need to do is define our fit function, let's go ahead and do that and fit it to a segment of the data that includes roughly the first full swing of the pendulum.\n",
        "\n",
        "Note that this example uses a different `sci_py` integrator, namely `odint`, for which more information is available <a href=\"https://docs.scipy.org/doc/scipy/reference/generated/scipy.integrate.odeint.html\" target=\"BLANK\">here</a>. By coincidence, the `odint` documentation actually uses a pendulum as an example. The code has commented out sections if you want to switch to the `solve_ivp` integrator to see what changes in the results.\n",
        "\n",
        "Since time runs backwards in these datasets, we flip the last 1000 entries to get a time that runs forward starting at 0. In the fit, we fix the length at 10.7886 but allow both the gravitational constant $g$ and the amplitude of the damping term $\\mu$ to vary (parameters `x2` and `x3` respectively). The initial position and velocity are parameters `x0` and `x1`, respectively.\n",
        "\n",
        "Note, we will use two additional parameters in our fit: `x4` is the amplitude of the angular oscillations (essentially a scaling factor), and `x5` is an arbitrary offset in the angle (which could correspond to a systematic effect)."
      ]
    },
    {
      "cell_type": "code",
      "execution_count": null,
      "id": "f13cecd9",
      "metadata": {
        "tags": [
          "learner",
          "py",
          "learner_chopped",
          "lect_06"
        ],
        "id": "f13cecd9"
      },
      "outputs": [],
      "source": [
        "#>>>RUN: L17.6-runcell04\n",
        "\n",
        "time=np.flip(tk)[0:1000]\n",
        "amp= np.flip(ak)[0:1000]\n",
        "weights=1.0/(np.ones(len(amp))*2*1e-4)\n",
        "lk = 10.7886\n",
        "lj = 4.151\n",
        "l=lk\n",
        "\n",
        "def ffull(y, t, g, l, mu): #This is for ODE\n",
        "    theta, thetadot = y\n",
        "    return [thetadot, - (g / l) * np.sin(theta)-mu*thetadot]\n",
        "\n",
        "\n",
        "def func(t,x0,x1,x2,x3,x4,x5):\n",
        "    #solution = solve_ivp(ffull,[time[0],time[-1]], [x0, x1], max_step = 0.1, args=(x2,l,x3),t_eval=t)\n",
        "    #solution = x4*solution.y[0]+x5#np.sin(solution[:,0])+x[5]\n",
        "    solution = odeint(ffull, [x0,x1,], t, args=(x2,l,x3))\n",
        "    solution = x4*solution[:,0]+x5\n",
        "    return solution\n",
        "\n",
        "plt.plot(time,amp,'.',label='Kiran')\n",
        "plt.xlabel('time(s)')\n",
        "plt.ylabel(\"Angular Amplitude\")\n",
        "plt.show()\n",
        "\n",
        "xtest = np.array([-0.01,0.01,9.8,0.0,15,0.01])\n",
        "model = Model(func, independent_vars=['t'])\n",
        "params = model.make_params()\n",
        "params['x0'].min=np.min(amp)*2\n",
        "params['x0'].max=np.max(amp)*2\n",
        "params['x1'].min=np.min(amp)*10\n",
        "params['x1'].max=np.max(amp)*10\n",
        "params['x2'].min=9.5\n",
        "params['x2'].max=10.0\n",
        "params['x3'].min=-0.1\n",
        "params['x3'].max=0.1\n",
        "params['x4'].min=1\n",
        "params['x4'].max=100\n",
        "#params['x4'].vary=False\n",
        "params['x5'].min=-0.1\n",
        "params['x5'].max=0.1\n",
        "#params['x6'].min=-0.5\n",
        "#params['x6'].max=0.5\n",
        "#params['x6'].vary=False\n",
        "result = model.fit(amp, t=time,params=params, weights=weights,\n",
        "                  x0=xtest[0],x1=xtest[1],x2=xtest[2],x3=xtest[3],x4=xtest[4],x5=xtest[5])\n",
        "print(result.fit_report())\n",
        "result.plot_fit()\n",
        "plt.show()\n",
        "result.plot_residuals()\n",
        "plt.show()\n",
        "\n"
      ]
    },
    {
      "cell_type": "markdown",
      "id": "01b9a92a",
      "metadata": {
        "tags": [
          "learner",
          "md",
          "lect_06"
        ],
        "id": "01b9a92a"
      },
      "source": [
        "Alright, so we have achieved a relatively good fit. However, the reduced $\\chi^2$ isn't great and the residuals show a very clear systematic jitter as opposed to fluctuating randomly around 0. My guess is that this is the interpolation between various points. There are a few ways to handle this. However, probably the easiest for now is to just sample less points since they all seem to be correlated. Let's now fit a much longer stretch of data, sampling every 50$^{\\mathrm{th}}$ event."
      ]
    },
    {
      "cell_type": "code",
      "execution_count": null,
      "id": "0d75aea4",
      "metadata": {
        "tags": [
          "learner",
          "py",
          "learner_chopped",
          "lect_06"
        ],
        "id": "0d75aea4"
      },
      "outputs": [],
      "source": [
        "#>>>RUN: L17.6-runcell05\n",
        "\n",
        "time=np.flip(tk)[0:5000][::50]\n",
        "amp= np.flip(ak)[0:5000][::50]\n",
        "weights=1/(np.ones(len(amp))*8*1e-4) #inflate uncertainty\n",
        "lk = 10.7886\n",
        "lj = 4.151\n",
        "l=lk\n",
        "result = model.fit(amp, t=time,params=params, weights=weights,\n",
        "                  x0=xtest[0],x1=xtest[1],x2=xtest[2],x3=xtest[3],x4=xtest[4],x5=xtest[5])\n",
        "print(result.fit_report())\n",
        "result.plot_fit()\n",
        "plt.show()\n",
        "result.plot_residuals()\n",
        "plt.show()\n",
        "\n",
        "\n"
      ]
    },
    {
      "cell_type": "markdown",
      "id": "b0a70b55",
      "metadata": {
        "tags": [
          "learner",
          "md",
          "lect_06"
        ],
        "id": "b0a70b55"
      },
      "source": [
        "Now, we have a much better result, with a reduced $\\chi^2$ close to 1 and much less correlation in the residuals. However, this fit still has some clear issues. In particular, right after the pendulum is released, we might have additional oscillations. These are hard to model, so what we can do is just skip that part of the data. Also, after some playing, we realized that there is a bit of redundancy in the fit (meaning that some parameters are strongly correlated), so we decided to fix `x4` to a value of 20.\n",
        "\n",
        "Let's go ahead and refit the data with these modifications, in this case fitting the entirety of both datasets (but again only every 50$^{\\mathrm{th}}$ point). We can also look at the data taken by both Kiran (shown first) and Jade and see which one looks better.\n"
      ]
    },
    {
      "cell_type": "code",
      "execution_count": null,
      "id": "a8ed1e31",
      "metadata": {
        "scrolled": false,
        "tags": [
          "learner",
          "py",
          "learner_chopped",
          "lect_06"
        ],
        "id": "a8ed1e31"
      },
      "outputs": [],
      "source": [
        "#>>>RUN: L17.6-runcell06\n",
        "\n",
        "time=np.flip(tk)[5000:10000][::20]\n",
        "amp= np.flip(ak)[5000:10000][::20]\n",
        "weights=1/(np.ones(len(amp))*8*1e-4) #inflate uncertainty\n",
        "lk = 10.7886\n",
        "lj = 4.151\n",
        "l=lk\n",
        "xtest[4]=20\n",
        "params['x4'].vary=False\n",
        "result = model.fit(amp, t=time,params=params, weights=weights,\n",
        "                  x0=xtest[0],x1=xtest[1],x2=xtest[2],x3=xtest[3],x4=xtest[4],x5=xtest[5])\n",
        "print(result.fit_report())\n",
        "result.plot_fit()\n",
        "plt.show()\n",
        "result.plot_residuals()\n",
        "plt.show()\n",
        "\n",
        "time=np.flip(tj)[5000:10000][::20]\n",
        "amp= np.flip(aj)[5000:10000][::20]\n",
        "weights=1/(np.ones(len(amp))*8*1e-4) #inflate uncertainty\n",
        "lk = 10.7886\n",
        "lj = 4.151\n",
        "l=lj\n",
        "xtest[4]=20\n",
        "params['x4'].vary=False\n",
        "result = model.fit(amp, t=time,params=params, weights=weights,\n",
        "                  x0=xtest[0],x1=xtest[1],x2=xtest[2],x3=xtest[3],x4=xtest[4],x5=xtest[5])\n",
        "\n",
        "print(result.fit_report())\n",
        "result.plot_fit()\n",
        "plt.show()\n",
        "result.plot_residuals()\n",
        "plt.show()\n",
        "\n",
        "\n"
      ]
    },
    {
      "cell_type": "markdown",
      "id": "5ea5513e",
      "metadata": {
        "tags": [
          "learner",
          "md",
          "lect_06"
        ],
        "id": "5ea5513e"
      },
      "source": [
        "What we find is that Jade's data has a small number of points that have big deviations, which results in a much worse reduced $\\chi^2$. Also, there appear to again be some correlations in the residuals for Jade's data. However, neither of these effects will appreciably impact the quality of the fit, as shown by the fact that the uncertainties in the fit parameters are very close to those for Kiran's data.\n",
        "\n",
        "Although a $\\chi^2$ value close to one represents a good fit, we want to explore this method of fitting further. So let's update our fit function to be even more sophisticated, to more closely model reality. In addition to the damping friction we had before, $\\left(F=-\\mu\\ell\\dot{\\theta}\\right)$, we can add a drag force $F\n",
        "=-k\\dot{\\theta}^2$. Let's go ahead and do that and see how our expanded function performs."
      ]
    },
    {
      "cell_type": "code",
      "execution_count": null,
      "id": "40f22d5f",
      "metadata": {
        "tags": [
          "learner",
          "py",
          "learner_chopped",
          "lect_06"
        ],
        "id": "40f22d5f"
      },
      "outputs": [],
      "source": [
        "#>>>RUN: L17.6-runcell07\n",
        "\n",
        "def ffull(y, t, g, l, mu, drag): #This is for ODE\n",
        "    theta, thetadot = y\n",
        "    return [thetadot, - (g / l) * np.sin(theta)-mu*thetadot-drag*thetadot**2 ]\n",
        "\n",
        "\n",
        "def func(t,x0,x1,x2,x3,x4,x5,x6):\n",
        "    #solution = solve_ivp(ffull,[time[0],time[-1]], [x0, x1], max_step = 0.1, args=(x2,l,x3),t_eval=t)\n",
        "    #solution = x4*solution.y[0]+x5#np.sin(solution[:,0])+x[5]\n",
        "    solution = odeint(ffull, [x0,x1,], t, args=(x2,l,x3,x6))\n",
        "    solution = (x4*solution[:,0]+x5)\n",
        "    return solution\n",
        "\n",
        "\n",
        "xtest = np.array([-0.01,0.01,9.8,0.0,20,0.01,0.0,0])\n",
        "model = Model(func, independent_vars=['t'])\n",
        "params = model.make_params()\n",
        "params['x0']\n",
        "params['x0'].min=np.min(amp)\n",
        "params['x0'].max=np.max(amp)\n",
        "params['x1'].min=np.min(amp)*10\n",
        "params['x1'].max=np.max(amp)*10\n",
        "params['x2'].min=9.5\n",
        "params['x2'].max=10.0\n",
        "params['x3'].min=-0.1\n",
        "params['x3'].max=0.1\n",
        "params['x4'].min=1\n",
        "params['x4'].max=100\n",
        "params['x4'].vary=False\n",
        "params['x5'].min=-0.1\n",
        "params['x5'].max=0.1\n",
        "params['x6'].min=-10.5\n",
        "params['x6'].max=10.5\n",
        "#params['x7'].min=-0.1\n",
        "#params['x7'].max=0.1\n",
        "#params['x6'].vary=False\n",
        "\n"
      ]
    },
    {
      "cell_type": "code",
      "execution_count": null,
      "id": "1bc80862",
      "metadata": {
        "scrolled": false,
        "tags": [
          "learner",
          "py",
          "learner_chopped",
          "lect_06"
        ],
        "id": "1bc80862"
      },
      "outputs": [],
      "source": [
        "#>>>RUN: L17.6-runcell08\n",
        "\n",
        "time=np.flip(tk)[0:10000][::10]\n",
        "amp= np.flip(ak)[0:10000][::10]\n",
        "weights=1/(np.ones(len(amp))*8*1e-4) #inflate uncertainty\n",
        "lk = 10.7886\n",
        "lj = 4.151\n",
        "l=lk\n",
        "xtest[4]=20\n",
        "params['x4'].vary=False\n",
        "result = model.fit(amp, t=time,params=params, weights=weights,\n",
        "                  x0=xtest[0],x1=xtest[1],x2=xtest[2],x3=xtest[3],x4=xtest[4],x5=xtest[5],x6=xtest[6])#,x7=xtest[7])\n",
        "print(result.fit_report())\n",
        "result.plot_fit()\n",
        "plt.show()\n",
        "result.plot_residuals()\n",
        "plt.show()\n",
        "\n",
        "time=np.flip(tj)[5000:10000][::10]\n",
        "amp= np.flip(aj)[5000:10000][::10]\n",
        "weights=1/(np.ones(len(amp))*8*1e-4) #inflate uncertainty\n",
        "lk = 10.7886\n",
        "lj = 4.151\n",
        "l=lj\n",
        "xtest[4]=20\n",
        "params['x4'].vary=False\n",
        "result = model.fit(amp, t=time,params=params, weights=weights,\n",
        "                  x0=xtest[0],x1=xtest[1],x2=xtest[2],x3=xtest[3],x4=xtest[4],x5=xtest[5],x6=xtest[6])#,x7=xtest[7])\n",
        "\n",
        "print(result.fit_report())\n",
        "result.plot_fit()\n",
        "plt.show()\n",
        "result.plot_residuals()\n",
        "plt.show()\n",
        "\n",
        "def gtrue(phi):\n",
        "    return 9.80616-0.025925*np.cos(2*phi)+0.000069*np.cos(phi)**2\n",
        "\n",
        "gtrue(42./180.*np.pi)\n"
      ]
    },
    {
      "cell_type": "markdown",
      "id": "f4112140",
      "metadata": {
        "tags": [
          "learner",
          "md",
          "lect_06"
        ],
        "id": "f4112140"
      },
      "source": [
        "Finally, let's look at our results for the best fit value of $g$. For this, we get\n",
        "\n",
        "$g=9.7616\\pm0.0002$, and $g=9.8378\\pm0.0005$\n",
        "\n",
        "If we average them, we get $g=9.8000$, which is pretty close to the best fit at the latitude of Boston $g=9.8034$. That being said, there are a number of effects which haven't been modeled when fitting the data, and those could probably get us even more precise. In particular, on the data side, we could more accurately measure the pendulum length $\\ell$, and on the model side, we could take into account the pendulum's moment of inertia. All of these are at the level of a fraction of a percent, which is much larger than the fit precision we have already obtained.\n"
      ]
    },
    {
      "cell_type": "markdown",
      "id": "c2a102fc",
      "metadata": {
        "tags": [
          "learner",
          "md",
          "learner_chopped"
        ],
        "id": "c2a102fc"
      },
      "source": [
        "<a name='exercises_17_6'></a>     \n",
        "\n",
        "| [Top](#section_17_0) | [Restart Section](#section_17_6) |\n"
      ]
    },
    {
      "cell_type": "markdown",
      "id": "d1e3c01b",
      "metadata": {
        "tags": [
          "learner",
          "md",
          "learner_chopped"
        ],
        "id": "d1e3c01b"
      },
      "source": [
        "### <span style=\"border:3px; border-style:solid; padding: 0.15em; border-color: #90409C; color: #90409C;\">Exercise 17.6.1</span>\n",
        "\n",
        "Repeat the fit to both datasets using the exact solution for a damped harmonic oscillator, defined as `dampfunc` in the code below. The analytic form of the solution is:\n",
        "\n",
        "$$\n",
        "\\theta(t) = Be^{-\\frac{\\mu'}{2}t}\\cos(\\omega_t t + \\delta)\n",
        "$$\n",
        "\n",
        "where $B$ and $\\delta$ are parameters set based on intial conditionas, and the frequency of transient oscillations is given by:\n",
        "\n",
        "$$\n",
        "\\omega_t = \\sqrt{\\omega_0^2 - \\left(\\frac{\\mu'}{2}\\right)^2}\n",
        "$$\n",
        "\n",
        "As with the model used in this section, you should add an additional offset term, such that the fit model resembles:\n",
        "\n",
        "$$\n",
        "\\theta(t) = Be^{-\\frac{\\mu'}{2}t}\\cos(\\omega_t t + \\delta) + \\Delta\n",
        "$$\n",
        "\n",
        "\n",
        "What values do you obtain for $g$ for both data sets? Report your result as a list of two numbers with precision `1e-4`."
      ]
    },
    {
      "cell_type": "code",
      "execution_count": null,
      "id": "7e7a4c9f",
      "metadata": {
        "scrolled": false,
        "tags": [
          "py",
          "draft",
          "learner_chopped"
        ],
        "id": "7e7a4c9f"
      },
      "outputs": [],
      "source": [
        "#>>>EXERCISE: L17.6.1\n",
        "\n",
        "def dampfunc(t,x0,x1,x2,x3,x4):\n",
        "    return #YOUR CODE HERE\n",
        "\n",
        "\n",
        "dampmodel = Model(dampfunc, independent_vars=['t'])\n",
        "params = dampmodel.make_params()\n",
        "\n",
        "xtest = np.array([]) #FILL IN ARRAY\n",
        "#SET MIN/MAX ON PARAM VALS HERE\n",
        "\n",
        "time=np.flip(tk)[0:10000][::10]\n",
        "amp= np.flip(ak)[0:10000][::10]\n",
        "weights=1/(np.ones(len(amp))*8*1e-4) #inflate uncertainty\n",
        "lk = 10.7886\n",
        "lj = 4.151\n",
        "l=lk\n",
        "result = dampmodel.fit(amp, t=time,params=params, weights=weights,\n",
        "                      x0=xtest[0],x1=xtest[1],x2=xtest[2],x3=xtest[3],x4=xtest[5])\n",
        "print(result.fit_report())\n",
        "result.plot_fit()\n",
        "plt.show()\n",
        "result.plot_residuals()\n",
        "plt.show()\n",
        "\n",
        "time=np.flip(tj)[0:10000][::10]\n",
        "amp= np.flip(aj)[0:10000][::10]\n",
        "weights=1/(np.ones(len(amp))*8*1e-4) #inflate uncertainty\n",
        "lk = 10.7886\n",
        "lj = 4.151\n",
        "l=lj\n",
        "result = dampmodel.fit(amp, t=time,params=params, weights=weights,\n",
        "                      x0=xtest[0],x1=xtest[1],x2=xtest[2],x3=xtest[3],x4=xtest[5])\n",
        "\n",
        "print(result.fit_report())\n",
        "result.plot_fit()\n",
        "plt.show()\n",
        "result.plot_residuals()\n",
        "plt.show()"
      ]
    }
  ],
  "metadata": {
    "celltoolbar": "Tags",
    "kernelspec": {
      "display_name": "Python 3 (ipykernel)",
      "language": "python",
      "name": "python3"
    },
    "language_info": {
      "codemirror_mode": {
        "name": "ipython",
        "version": 3
      },
      "file_extension": ".py",
      "mimetype": "text/x-python",
      "name": "python",
      "nbconvert_exporter": "python",
      "pygments_lexer": "ipython3",
      "version": "3.9.9"
    },
    "colab": {
      "provenance": [],
      "include_colab_link": true
    }
  },
  "nbformat": 4,
  "nbformat_minor": 5
}